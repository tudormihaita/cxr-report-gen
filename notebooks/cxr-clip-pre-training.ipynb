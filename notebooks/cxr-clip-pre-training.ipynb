{
 "cells": [
  {
   "cell_type": "code",
   "id": "initial_id",
   "metadata": {
    "collapsed": true,
    "ExecuteTime": {
     "end_time": "2025-05-13T19:36:49.574914Z",
     "start_time": "2025-05-13T19:36:47.327577Z"
    }
   },
   "source": [
    "import argparse\n",
    "import torch\n",
    "import yaml\n",
    "import numpy as np\n",
    "from sklearn.metrics.pairwise import cosine_similarity\n",
    "\n",
    "from cxrclip import build_model\n",
    "from cxrclip.loss import build_loss\n",
    "from data import load_tokenizer\n",
    "from cxrclip.pretrain import CXRCLIPTrainer\n",
    "from cxrclip.finetune import CXRClassifierTrainer\n",
    "from data.loaders import CxrDataLoader\n",
    "from constants import CHEXPERT_LABELS"
   ],
   "outputs": [
    {
     "name": "stderr",
     "output_type": "stream",
     "text": [
      "/Users/tudormihaita/PycharmProjects/clip-cxr-report-gen/.venv/lib/python3.9/site-packages/urllib3/__init__.py:35: NotOpenSSLWarning: urllib3 v2 only supports OpenSSL 1.1.1+, currently the 'ssl' module is compiled with 'LibreSSL 2.8.3'. See: https://github.com/urllib3/urllib3/issues/3020\n",
      "  warnings.warn(\n"
     ]
    }
   ],
   "execution_count": 1
  },
  {
   "metadata": {
    "ExecuteTime": {
     "end_time": "2025-05-13T19:36:50.934530Z",
     "start_time": "2025-05-13T19:36:50.903665Z"
    }
   },
   "cell_type": "code",
   "source": [
    "tokenizer_config = yaml.load(open(\"../configs/tokenizer/clinical_bert.yaml\"), Loader=yaml.FullLoader)\n",
    "tokenizer = load_tokenizer(**tokenizer_config)"
   ],
   "id": "670434de80e02297",
   "outputs": [
    {
     "name": "stderr",
     "output_type": "stream",
     "text": [
      "/Users/tudormihaita/PycharmProjects/clip-cxr-report-gen/.venv/lib/python3.9/site-packages/huggingface_hub/file_download.py:797: FutureWarning: `resume_download` is deprecated and will be removed in version 1.0.0. Downloads always resume when possible. If you want to force a new download, use `force_download=True`.\n",
      "  warnings.warn(\n"
     ]
    }
   ],
   "execution_count": 2
  },
  {
   "metadata": {
    "ExecuteTime": {
     "end_time": "2025-05-13T19:36:53.770299Z",
     "start_time": "2025-05-13T19:36:52.380828Z"
    }
   },
   "cell_type": "code",
   "source": [
    "# model_config = yaml.load(open(\"../configs/model/clip_swin_clinical.yaml\"), Loader=yaml.FullLoader)\n",
    "model_config = yaml.load(open(\"../configs/model/swin_classification.yaml\"), Loader=yaml.FullLoader)\n",
    "# loss_config = yaml.load(open(\"../configs/loss/contrastive.yaml\"), Loader=yaml.FullLoader)\n",
    "loss_config = yaml.load(open(\"../configs/loss/classification.yaml\"), Loader=yaml.FullLoader)\n",
    "model = build_model(model_config, loss_config, tokenizer, use_custom=True)\n",
    "loss_fn = build_loss(loss_config)"
   ],
   "id": "da3caa7d6649040a",
   "outputs": [
    {
     "name": "stderr",
     "output_type": "stream",
     "text": [
      "2025-05-13 22:36:52,384 - INFO - loading pre-trained image encoder for fine-tuning\n"
     ]
    },
    {
     "name": "stdout",
     "output_type": "stream",
     "text": [
      "{'source': 'huggingface', 'name': 'microsoft/swin-tiny-patch4-window7-224', 'pretrained': True, 'model_type': 'swin'}\n"
     ]
    },
    {
     "name": "stderr",
     "output_type": "stream",
     "text": [
      "Some weights of the model checkpoint at microsoft/swin-tiny-patch4-window7-224 were not used when initializing SwinModel: ['classifier.weight', 'classifier.bias']\n",
      "- This IS expected if you are initializing SwinModel from the checkpoint of a model trained on another task or with another architecture (e.g. initializing a BertForSequenceClassification model from a BertForPreTraining model).\n",
      "- This IS NOT expected if you are initializing SwinModel from the checkpoint of a model that you expect to be exactly identical (initializing a BertForSequenceClassification model from a BertForSequenceClassification model).\n",
      "2025-05-13 22:36:53,713 - INFO -     freezing image encoder to not be trained\n"
     ]
    }
   ],
   "execution_count": 3
  },
  {
   "metadata": {
    "ExecuteTime": {
     "end_time": "2025-05-10T18:42:45.768524Z",
     "start_time": "2025-05-10T18:42:45.525732Z"
    }
   },
   "cell_type": "code",
   "source": [
    "# checkpoint_path = \"./output/swint_mc.tar\"\n",
    "checkpoint_path = \"./output/cxr_clip_best_retrieval.pt\"\n",
    "checkpoint = torch.load(checkpoint_path, map_location=\"cpu\", weights_only=False)\n",
    "# model.load_state_dict(checkpoint[\"model_state_dict\"])\n",
    "print(checkpoint[\"model_state_dict\"].keys())"
   ],
   "id": "87c71f5465d9c2d2",
   "outputs": [
    {
     "name": "stdout",
     "output_type": "stream",
     "text": [
      "odict_keys(['logit_scale', 'image_encoder.image_encoder.embeddings.patch_embeddings.projection.weight', 'image_encoder.image_encoder.embeddings.patch_embeddings.projection.bias', 'image_encoder.image_encoder.embeddings.norm.weight', 'image_encoder.image_encoder.embeddings.norm.bias', 'image_encoder.image_encoder.encoder.layers.0.blocks.0.layernorm_before.weight', 'image_encoder.image_encoder.encoder.layers.0.blocks.0.layernorm_before.bias', 'image_encoder.image_encoder.encoder.layers.0.blocks.0.attention.self.relative_position_bias_table', 'image_encoder.image_encoder.encoder.layers.0.blocks.0.attention.self.relative_position_index', 'image_encoder.image_encoder.encoder.layers.0.blocks.0.attention.self.query.weight', 'image_encoder.image_encoder.encoder.layers.0.blocks.0.attention.self.query.bias', 'image_encoder.image_encoder.encoder.layers.0.blocks.0.attention.self.key.weight', 'image_encoder.image_encoder.encoder.layers.0.blocks.0.attention.self.key.bias', 'image_encoder.image_encoder.encoder.layers.0.blocks.0.attention.self.value.weight', 'image_encoder.image_encoder.encoder.layers.0.blocks.0.attention.self.value.bias', 'image_encoder.image_encoder.encoder.layers.0.blocks.0.attention.output.dense.weight', 'image_encoder.image_encoder.encoder.layers.0.blocks.0.attention.output.dense.bias', 'image_encoder.image_encoder.encoder.layers.0.blocks.0.layernorm_after.weight', 'image_encoder.image_encoder.encoder.layers.0.blocks.0.layernorm_after.bias', 'image_encoder.image_encoder.encoder.layers.0.blocks.0.intermediate.dense.weight', 'image_encoder.image_encoder.encoder.layers.0.blocks.0.intermediate.dense.bias', 'image_encoder.image_encoder.encoder.layers.0.blocks.0.output.dense.weight', 'image_encoder.image_encoder.encoder.layers.0.blocks.0.output.dense.bias', 'image_encoder.image_encoder.encoder.layers.0.blocks.1.layernorm_before.weight', 'image_encoder.image_encoder.encoder.layers.0.blocks.1.layernorm_before.bias', 'image_encoder.image_encoder.encoder.layers.0.blocks.1.attention.self.relative_position_bias_table', 'image_encoder.image_encoder.encoder.layers.0.blocks.1.attention.self.relative_position_index', 'image_encoder.image_encoder.encoder.layers.0.blocks.1.attention.self.query.weight', 'image_encoder.image_encoder.encoder.layers.0.blocks.1.attention.self.query.bias', 'image_encoder.image_encoder.encoder.layers.0.blocks.1.attention.self.key.weight', 'image_encoder.image_encoder.encoder.layers.0.blocks.1.attention.self.key.bias', 'image_encoder.image_encoder.encoder.layers.0.blocks.1.attention.self.value.weight', 'image_encoder.image_encoder.encoder.layers.0.blocks.1.attention.self.value.bias', 'image_encoder.image_encoder.encoder.layers.0.blocks.1.attention.output.dense.weight', 'image_encoder.image_encoder.encoder.layers.0.blocks.1.attention.output.dense.bias', 'image_encoder.image_encoder.encoder.layers.0.blocks.1.layernorm_after.weight', 'image_encoder.image_encoder.encoder.layers.0.blocks.1.layernorm_after.bias', 'image_encoder.image_encoder.encoder.layers.0.blocks.1.intermediate.dense.weight', 'image_encoder.image_encoder.encoder.layers.0.blocks.1.intermediate.dense.bias', 'image_encoder.image_encoder.encoder.layers.0.blocks.1.output.dense.weight', 'image_encoder.image_encoder.encoder.layers.0.blocks.1.output.dense.bias', 'image_encoder.image_encoder.encoder.layers.0.downsample.reduction.weight', 'image_encoder.image_encoder.encoder.layers.0.downsample.norm.weight', 'image_encoder.image_encoder.encoder.layers.0.downsample.norm.bias', 'image_encoder.image_encoder.encoder.layers.1.blocks.0.layernorm_before.weight', 'image_encoder.image_encoder.encoder.layers.1.blocks.0.layernorm_before.bias', 'image_encoder.image_encoder.encoder.layers.1.blocks.0.attention.self.relative_position_bias_table', 'image_encoder.image_encoder.encoder.layers.1.blocks.0.attention.self.relative_position_index', 'image_encoder.image_encoder.encoder.layers.1.blocks.0.attention.self.query.weight', 'image_encoder.image_encoder.encoder.layers.1.blocks.0.attention.self.query.bias', 'image_encoder.image_encoder.encoder.layers.1.blocks.0.attention.self.key.weight', 'image_encoder.image_encoder.encoder.layers.1.blocks.0.attention.self.key.bias', 'image_encoder.image_encoder.encoder.layers.1.blocks.0.attention.self.value.weight', 'image_encoder.image_encoder.encoder.layers.1.blocks.0.attention.self.value.bias', 'image_encoder.image_encoder.encoder.layers.1.blocks.0.attention.output.dense.weight', 'image_encoder.image_encoder.encoder.layers.1.blocks.0.attention.output.dense.bias', 'image_encoder.image_encoder.encoder.layers.1.blocks.0.layernorm_after.weight', 'image_encoder.image_encoder.encoder.layers.1.blocks.0.layernorm_after.bias', 'image_encoder.image_encoder.encoder.layers.1.blocks.0.intermediate.dense.weight', 'image_encoder.image_encoder.encoder.layers.1.blocks.0.intermediate.dense.bias', 'image_encoder.image_encoder.encoder.layers.1.blocks.0.output.dense.weight', 'image_encoder.image_encoder.encoder.layers.1.blocks.0.output.dense.bias', 'image_encoder.image_encoder.encoder.layers.1.blocks.1.layernorm_before.weight', 'image_encoder.image_encoder.encoder.layers.1.blocks.1.layernorm_before.bias', 'image_encoder.image_encoder.encoder.layers.1.blocks.1.attention.self.relative_position_bias_table', 'image_encoder.image_encoder.encoder.layers.1.blocks.1.attention.self.relative_position_index', 'image_encoder.image_encoder.encoder.layers.1.blocks.1.attention.self.query.weight', 'image_encoder.image_encoder.encoder.layers.1.blocks.1.attention.self.query.bias', 'image_encoder.image_encoder.encoder.layers.1.blocks.1.attention.self.key.weight', 'image_encoder.image_encoder.encoder.layers.1.blocks.1.attention.self.key.bias', 'image_encoder.image_encoder.encoder.layers.1.blocks.1.attention.self.value.weight', 'image_encoder.image_encoder.encoder.layers.1.blocks.1.attention.self.value.bias', 'image_encoder.image_encoder.encoder.layers.1.blocks.1.attention.output.dense.weight', 'image_encoder.image_encoder.encoder.layers.1.blocks.1.attention.output.dense.bias', 'image_encoder.image_encoder.encoder.layers.1.blocks.1.layernorm_after.weight', 'image_encoder.image_encoder.encoder.layers.1.blocks.1.layernorm_after.bias', 'image_encoder.image_encoder.encoder.layers.1.blocks.1.intermediate.dense.weight', 'image_encoder.image_encoder.encoder.layers.1.blocks.1.intermediate.dense.bias', 'image_encoder.image_encoder.encoder.layers.1.blocks.1.output.dense.weight', 'image_encoder.image_encoder.encoder.layers.1.blocks.1.output.dense.bias', 'image_encoder.image_encoder.encoder.layers.1.downsample.reduction.weight', 'image_encoder.image_encoder.encoder.layers.1.downsample.norm.weight', 'image_encoder.image_encoder.encoder.layers.1.downsample.norm.bias', 'image_encoder.image_encoder.encoder.layers.2.blocks.0.layernorm_before.weight', 'image_encoder.image_encoder.encoder.layers.2.blocks.0.layernorm_before.bias', 'image_encoder.image_encoder.encoder.layers.2.blocks.0.attention.self.relative_position_bias_table', 'image_encoder.image_encoder.encoder.layers.2.blocks.0.attention.self.relative_position_index', 'image_encoder.image_encoder.encoder.layers.2.blocks.0.attention.self.query.weight', 'image_encoder.image_encoder.encoder.layers.2.blocks.0.attention.self.query.bias', 'image_encoder.image_encoder.encoder.layers.2.blocks.0.attention.self.key.weight', 'image_encoder.image_encoder.encoder.layers.2.blocks.0.attention.self.key.bias', 'image_encoder.image_encoder.encoder.layers.2.blocks.0.attention.self.value.weight', 'image_encoder.image_encoder.encoder.layers.2.blocks.0.attention.self.value.bias', 'image_encoder.image_encoder.encoder.layers.2.blocks.0.attention.output.dense.weight', 'image_encoder.image_encoder.encoder.layers.2.blocks.0.attention.output.dense.bias', 'image_encoder.image_encoder.encoder.layers.2.blocks.0.layernorm_after.weight', 'image_encoder.image_encoder.encoder.layers.2.blocks.0.layernorm_after.bias', 'image_encoder.image_encoder.encoder.layers.2.blocks.0.intermediate.dense.weight', 'image_encoder.image_encoder.encoder.layers.2.blocks.0.intermediate.dense.bias', 'image_encoder.image_encoder.encoder.layers.2.blocks.0.output.dense.weight', 'image_encoder.image_encoder.encoder.layers.2.blocks.0.output.dense.bias', 'image_encoder.image_encoder.encoder.layers.2.blocks.1.layernorm_before.weight', 'image_encoder.image_encoder.encoder.layers.2.blocks.1.layernorm_before.bias', 'image_encoder.image_encoder.encoder.layers.2.blocks.1.attention.self.relative_position_bias_table', 'image_encoder.image_encoder.encoder.layers.2.blocks.1.attention.self.relative_position_index', 'image_encoder.image_encoder.encoder.layers.2.blocks.1.attention.self.query.weight', 'image_encoder.image_encoder.encoder.layers.2.blocks.1.attention.self.query.bias', 'image_encoder.image_encoder.encoder.layers.2.blocks.1.attention.self.key.weight', 'image_encoder.image_encoder.encoder.layers.2.blocks.1.attention.self.key.bias', 'image_encoder.image_encoder.encoder.layers.2.blocks.1.attention.self.value.weight', 'image_encoder.image_encoder.encoder.layers.2.blocks.1.attention.self.value.bias', 'image_encoder.image_encoder.encoder.layers.2.blocks.1.attention.output.dense.weight', 'image_encoder.image_encoder.encoder.layers.2.blocks.1.attention.output.dense.bias', 'image_encoder.image_encoder.encoder.layers.2.blocks.1.layernorm_after.weight', 'image_encoder.image_encoder.encoder.layers.2.blocks.1.layernorm_after.bias', 'image_encoder.image_encoder.encoder.layers.2.blocks.1.intermediate.dense.weight', 'image_encoder.image_encoder.encoder.layers.2.blocks.1.intermediate.dense.bias', 'image_encoder.image_encoder.encoder.layers.2.blocks.1.output.dense.weight', 'image_encoder.image_encoder.encoder.layers.2.blocks.1.output.dense.bias', 'image_encoder.image_encoder.encoder.layers.2.blocks.2.layernorm_before.weight', 'image_encoder.image_encoder.encoder.layers.2.blocks.2.layernorm_before.bias', 'image_encoder.image_encoder.encoder.layers.2.blocks.2.attention.self.relative_position_bias_table', 'image_encoder.image_encoder.encoder.layers.2.blocks.2.attention.self.relative_position_index', 'image_encoder.image_encoder.encoder.layers.2.blocks.2.attention.self.query.weight', 'image_encoder.image_encoder.encoder.layers.2.blocks.2.attention.self.query.bias', 'image_encoder.image_encoder.encoder.layers.2.blocks.2.attention.self.key.weight', 'image_encoder.image_encoder.encoder.layers.2.blocks.2.attention.self.key.bias', 'image_encoder.image_encoder.encoder.layers.2.blocks.2.attention.self.value.weight', 'image_encoder.image_encoder.encoder.layers.2.blocks.2.attention.self.value.bias', 'image_encoder.image_encoder.encoder.layers.2.blocks.2.attention.output.dense.weight', 'image_encoder.image_encoder.encoder.layers.2.blocks.2.attention.output.dense.bias', 'image_encoder.image_encoder.encoder.layers.2.blocks.2.layernorm_after.weight', 'image_encoder.image_encoder.encoder.layers.2.blocks.2.layernorm_after.bias', 'image_encoder.image_encoder.encoder.layers.2.blocks.2.intermediate.dense.weight', 'image_encoder.image_encoder.encoder.layers.2.blocks.2.intermediate.dense.bias', 'image_encoder.image_encoder.encoder.layers.2.blocks.2.output.dense.weight', 'image_encoder.image_encoder.encoder.layers.2.blocks.2.output.dense.bias', 'image_encoder.image_encoder.encoder.layers.2.blocks.3.layernorm_before.weight', 'image_encoder.image_encoder.encoder.layers.2.blocks.3.layernorm_before.bias', 'image_encoder.image_encoder.encoder.layers.2.blocks.3.attention.self.relative_position_bias_table', 'image_encoder.image_encoder.encoder.layers.2.blocks.3.attention.self.relative_position_index', 'image_encoder.image_encoder.encoder.layers.2.blocks.3.attention.self.query.weight', 'image_encoder.image_encoder.encoder.layers.2.blocks.3.attention.self.query.bias', 'image_encoder.image_encoder.encoder.layers.2.blocks.3.attention.self.key.weight', 'image_encoder.image_encoder.encoder.layers.2.blocks.3.attention.self.key.bias', 'image_encoder.image_encoder.encoder.layers.2.blocks.3.attention.self.value.weight', 'image_encoder.image_encoder.encoder.layers.2.blocks.3.attention.self.value.bias', 'image_encoder.image_encoder.encoder.layers.2.blocks.3.attention.output.dense.weight', 'image_encoder.image_encoder.encoder.layers.2.blocks.3.attention.output.dense.bias', 'image_encoder.image_encoder.encoder.layers.2.blocks.3.layernorm_after.weight', 'image_encoder.image_encoder.encoder.layers.2.blocks.3.layernorm_after.bias', 'image_encoder.image_encoder.encoder.layers.2.blocks.3.intermediate.dense.weight', 'image_encoder.image_encoder.encoder.layers.2.blocks.3.intermediate.dense.bias', 'image_encoder.image_encoder.encoder.layers.2.blocks.3.output.dense.weight', 'image_encoder.image_encoder.encoder.layers.2.blocks.3.output.dense.bias', 'image_encoder.image_encoder.encoder.layers.2.blocks.4.layernorm_before.weight', 'image_encoder.image_encoder.encoder.layers.2.blocks.4.layernorm_before.bias', 'image_encoder.image_encoder.encoder.layers.2.blocks.4.attention.self.relative_position_bias_table', 'image_encoder.image_encoder.encoder.layers.2.blocks.4.attention.self.relative_position_index', 'image_encoder.image_encoder.encoder.layers.2.blocks.4.attention.self.query.weight', 'image_encoder.image_encoder.encoder.layers.2.blocks.4.attention.self.query.bias', 'image_encoder.image_encoder.encoder.layers.2.blocks.4.attention.self.key.weight', 'image_encoder.image_encoder.encoder.layers.2.blocks.4.attention.self.key.bias', 'image_encoder.image_encoder.encoder.layers.2.blocks.4.attention.self.value.weight', 'image_encoder.image_encoder.encoder.layers.2.blocks.4.attention.self.value.bias', 'image_encoder.image_encoder.encoder.layers.2.blocks.4.attention.output.dense.weight', 'image_encoder.image_encoder.encoder.layers.2.blocks.4.attention.output.dense.bias', 'image_encoder.image_encoder.encoder.layers.2.blocks.4.layernorm_after.weight', 'image_encoder.image_encoder.encoder.layers.2.blocks.4.layernorm_after.bias', 'image_encoder.image_encoder.encoder.layers.2.blocks.4.intermediate.dense.weight', 'image_encoder.image_encoder.encoder.layers.2.blocks.4.intermediate.dense.bias', 'image_encoder.image_encoder.encoder.layers.2.blocks.4.output.dense.weight', 'image_encoder.image_encoder.encoder.layers.2.blocks.4.output.dense.bias', 'image_encoder.image_encoder.encoder.layers.2.blocks.5.layernorm_before.weight', 'image_encoder.image_encoder.encoder.layers.2.blocks.5.layernorm_before.bias', 'image_encoder.image_encoder.encoder.layers.2.blocks.5.attention.self.relative_position_bias_table', 'image_encoder.image_encoder.encoder.layers.2.blocks.5.attention.self.relative_position_index', 'image_encoder.image_encoder.encoder.layers.2.blocks.5.attention.self.query.weight', 'image_encoder.image_encoder.encoder.layers.2.blocks.5.attention.self.query.bias', 'image_encoder.image_encoder.encoder.layers.2.blocks.5.attention.self.key.weight', 'image_encoder.image_encoder.encoder.layers.2.blocks.5.attention.self.key.bias', 'image_encoder.image_encoder.encoder.layers.2.blocks.5.attention.self.value.weight', 'image_encoder.image_encoder.encoder.layers.2.blocks.5.attention.self.value.bias', 'image_encoder.image_encoder.encoder.layers.2.blocks.5.attention.output.dense.weight', 'image_encoder.image_encoder.encoder.layers.2.blocks.5.attention.output.dense.bias', 'image_encoder.image_encoder.encoder.layers.2.blocks.5.layernorm_after.weight', 'image_encoder.image_encoder.encoder.layers.2.blocks.5.layernorm_after.bias', 'image_encoder.image_encoder.encoder.layers.2.blocks.5.intermediate.dense.weight', 'image_encoder.image_encoder.encoder.layers.2.blocks.5.intermediate.dense.bias', 'image_encoder.image_encoder.encoder.layers.2.blocks.5.output.dense.weight', 'image_encoder.image_encoder.encoder.layers.2.blocks.5.output.dense.bias', 'image_encoder.image_encoder.encoder.layers.2.downsample.reduction.weight', 'image_encoder.image_encoder.encoder.layers.2.downsample.norm.weight', 'image_encoder.image_encoder.encoder.layers.2.downsample.norm.bias', 'image_encoder.image_encoder.encoder.layers.3.blocks.0.layernorm_before.weight', 'image_encoder.image_encoder.encoder.layers.3.blocks.0.layernorm_before.bias', 'image_encoder.image_encoder.encoder.layers.3.blocks.0.attention.self.relative_position_bias_table', 'image_encoder.image_encoder.encoder.layers.3.blocks.0.attention.self.relative_position_index', 'image_encoder.image_encoder.encoder.layers.3.blocks.0.attention.self.query.weight', 'image_encoder.image_encoder.encoder.layers.3.blocks.0.attention.self.query.bias', 'image_encoder.image_encoder.encoder.layers.3.blocks.0.attention.self.key.weight', 'image_encoder.image_encoder.encoder.layers.3.blocks.0.attention.self.key.bias', 'image_encoder.image_encoder.encoder.layers.3.blocks.0.attention.self.value.weight', 'image_encoder.image_encoder.encoder.layers.3.blocks.0.attention.self.value.bias', 'image_encoder.image_encoder.encoder.layers.3.blocks.0.attention.output.dense.weight', 'image_encoder.image_encoder.encoder.layers.3.blocks.0.attention.output.dense.bias', 'image_encoder.image_encoder.encoder.layers.3.blocks.0.layernorm_after.weight', 'image_encoder.image_encoder.encoder.layers.3.blocks.0.layernorm_after.bias', 'image_encoder.image_encoder.encoder.layers.3.blocks.0.intermediate.dense.weight', 'image_encoder.image_encoder.encoder.layers.3.blocks.0.intermediate.dense.bias', 'image_encoder.image_encoder.encoder.layers.3.blocks.0.output.dense.weight', 'image_encoder.image_encoder.encoder.layers.3.blocks.0.output.dense.bias', 'image_encoder.image_encoder.encoder.layers.3.blocks.1.layernorm_before.weight', 'image_encoder.image_encoder.encoder.layers.3.blocks.1.layernorm_before.bias', 'image_encoder.image_encoder.encoder.layers.3.blocks.1.attention.self.relative_position_bias_table', 'image_encoder.image_encoder.encoder.layers.3.blocks.1.attention.self.relative_position_index', 'image_encoder.image_encoder.encoder.layers.3.blocks.1.attention.self.query.weight', 'image_encoder.image_encoder.encoder.layers.3.blocks.1.attention.self.query.bias', 'image_encoder.image_encoder.encoder.layers.3.blocks.1.attention.self.key.weight', 'image_encoder.image_encoder.encoder.layers.3.blocks.1.attention.self.key.bias', 'image_encoder.image_encoder.encoder.layers.3.blocks.1.attention.self.value.weight', 'image_encoder.image_encoder.encoder.layers.3.blocks.1.attention.self.value.bias', 'image_encoder.image_encoder.encoder.layers.3.blocks.1.attention.output.dense.weight', 'image_encoder.image_encoder.encoder.layers.3.blocks.1.attention.output.dense.bias', 'image_encoder.image_encoder.encoder.layers.3.blocks.1.layernorm_after.weight', 'image_encoder.image_encoder.encoder.layers.3.blocks.1.layernorm_after.bias', 'image_encoder.image_encoder.encoder.layers.3.blocks.1.intermediate.dense.weight', 'image_encoder.image_encoder.encoder.layers.3.blocks.1.intermediate.dense.bias', 'image_encoder.image_encoder.encoder.layers.3.blocks.1.output.dense.weight', 'image_encoder.image_encoder.encoder.layers.3.blocks.1.output.dense.bias', 'image_encoder.image_encoder.layernorm.weight', 'image_encoder.image_encoder.layernorm.bias', 'text_encoder.text_encoder.embeddings.position_ids', 'text_encoder.text_encoder.embeddings.word_embeddings.weight', 'text_encoder.text_encoder.embeddings.position_embeddings.weight', 'text_encoder.text_encoder.embeddings.token_type_embeddings.weight', 'text_encoder.text_encoder.embeddings.LayerNorm.weight', 'text_encoder.text_encoder.embeddings.LayerNorm.bias', 'text_encoder.text_encoder.encoder.layer.0.attention.self.query.weight', 'text_encoder.text_encoder.encoder.layer.0.attention.self.query.bias', 'text_encoder.text_encoder.encoder.layer.0.attention.self.key.weight', 'text_encoder.text_encoder.encoder.layer.0.attention.self.key.bias', 'text_encoder.text_encoder.encoder.layer.0.attention.self.value.weight', 'text_encoder.text_encoder.encoder.layer.0.attention.self.value.bias', 'text_encoder.text_encoder.encoder.layer.0.attention.output.dense.weight', 'text_encoder.text_encoder.encoder.layer.0.attention.output.dense.bias', 'text_encoder.text_encoder.encoder.layer.0.attention.output.LayerNorm.weight', 'text_encoder.text_encoder.encoder.layer.0.attention.output.LayerNorm.bias', 'text_encoder.text_encoder.encoder.layer.0.intermediate.dense.weight', 'text_encoder.text_encoder.encoder.layer.0.intermediate.dense.bias', 'text_encoder.text_encoder.encoder.layer.0.output.dense.weight', 'text_encoder.text_encoder.encoder.layer.0.output.dense.bias', 'text_encoder.text_encoder.encoder.layer.0.output.LayerNorm.weight', 'text_encoder.text_encoder.encoder.layer.0.output.LayerNorm.bias', 'text_encoder.text_encoder.encoder.layer.1.attention.self.query.weight', 'text_encoder.text_encoder.encoder.layer.1.attention.self.query.bias', 'text_encoder.text_encoder.encoder.layer.1.attention.self.key.weight', 'text_encoder.text_encoder.encoder.layer.1.attention.self.key.bias', 'text_encoder.text_encoder.encoder.layer.1.attention.self.value.weight', 'text_encoder.text_encoder.encoder.layer.1.attention.self.value.bias', 'text_encoder.text_encoder.encoder.layer.1.attention.output.dense.weight', 'text_encoder.text_encoder.encoder.layer.1.attention.output.dense.bias', 'text_encoder.text_encoder.encoder.layer.1.attention.output.LayerNorm.weight', 'text_encoder.text_encoder.encoder.layer.1.attention.output.LayerNorm.bias', 'text_encoder.text_encoder.encoder.layer.1.intermediate.dense.weight', 'text_encoder.text_encoder.encoder.layer.1.intermediate.dense.bias', 'text_encoder.text_encoder.encoder.layer.1.output.dense.weight', 'text_encoder.text_encoder.encoder.layer.1.output.dense.bias', 'text_encoder.text_encoder.encoder.layer.1.output.LayerNorm.weight', 'text_encoder.text_encoder.encoder.layer.1.output.LayerNorm.bias', 'text_encoder.text_encoder.encoder.layer.2.attention.self.query.weight', 'text_encoder.text_encoder.encoder.layer.2.attention.self.query.bias', 'text_encoder.text_encoder.encoder.layer.2.attention.self.key.weight', 'text_encoder.text_encoder.encoder.layer.2.attention.self.key.bias', 'text_encoder.text_encoder.encoder.layer.2.attention.self.value.weight', 'text_encoder.text_encoder.encoder.layer.2.attention.self.value.bias', 'text_encoder.text_encoder.encoder.layer.2.attention.output.dense.weight', 'text_encoder.text_encoder.encoder.layer.2.attention.output.dense.bias', 'text_encoder.text_encoder.encoder.layer.2.attention.output.LayerNorm.weight', 'text_encoder.text_encoder.encoder.layer.2.attention.output.LayerNorm.bias', 'text_encoder.text_encoder.encoder.layer.2.intermediate.dense.weight', 'text_encoder.text_encoder.encoder.layer.2.intermediate.dense.bias', 'text_encoder.text_encoder.encoder.layer.2.output.dense.weight', 'text_encoder.text_encoder.encoder.layer.2.output.dense.bias', 'text_encoder.text_encoder.encoder.layer.2.output.LayerNorm.weight', 'text_encoder.text_encoder.encoder.layer.2.output.LayerNorm.bias', 'text_encoder.text_encoder.encoder.layer.3.attention.self.query.weight', 'text_encoder.text_encoder.encoder.layer.3.attention.self.query.bias', 'text_encoder.text_encoder.encoder.layer.3.attention.self.key.weight', 'text_encoder.text_encoder.encoder.layer.3.attention.self.key.bias', 'text_encoder.text_encoder.encoder.layer.3.attention.self.value.weight', 'text_encoder.text_encoder.encoder.layer.3.attention.self.value.bias', 'text_encoder.text_encoder.encoder.layer.3.attention.output.dense.weight', 'text_encoder.text_encoder.encoder.layer.3.attention.output.dense.bias', 'text_encoder.text_encoder.encoder.layer.3.attention.output.LayerNorm.weight', 'text_encoder.text_encoder.encoder.layer.3.attention.output.LayerNorm.bias', 'text_encoder.text_encoder.encoder.layer.3.intermediate.dense.weight', 'text_encoder.text_encoder.encoder.layer.3.intermediate.dense.bias', 'text_encoder.text_encoder.encoder.layer.3.output.dense.weight', 'text_encoder.text_encoder.encoder.layer.3.output.dense.bias', 'text_encoder.text_encoder.encoder.layer.3.output.LayerNorm.weight', 'text_encoder.text_encoder.encoder.layer.3.output.LayerNorm.bias', 'text_encoder.text_encoder.encoder.layer.4.attention.self.query.weight', 'text_encoder.text_encoder.encoder.layer.4.attention.self.query.bias', 'text_encoder.text_encoder.encoder.layer.4.attention.self.key.weight', 'text_encoder.text_encoder.encoder.layer.4.attention.self.key.bias', 'text_encoder.text_encoder.encoder.layer.4.attention.self.value.weight', 'text_encoder.text_encoder.encoder.layer.4.attention.self.value.bias', 'text_encoder.text_encoder.encoder.layer.4.attention.output.dense.weight', 'text_encoder.text_encoder.encoder.layer.4.attention.output.dense.bias', 'text_encoder.text_encoder.encoder.layer.4.attention.output.LayerNorm.weight', 'text_encoder.text_encoder.encoder.layer.4.attention.output.LayerNorm.bias', 'text_encoder.text_encoder.encoder.layer.4.intermediate.dense.weight', 'text_encoder.text_encoder.encoder.layer.4.intermediate.dense.bias', 'text_encoder.text_encoder.encoder.layer.4.output.dense.weight', 'text_encoder.text_encoder.encoder.layer.4.output.dense.bias', 'text_encoder.text_encoder.encoder.layer.4.output.LayerNorm.weight', 'text_encoder.text_encoder.encoder.layer.4.output.LayerNorm.bias', 'text_encoder.text_encoder.encoder.layer.5.attention.self.query.weight', 'text_encoder.text_encoder.encoder.layer.5.attention.self.query.bias', 'text_encoder.text_encoder.encoder.layer.5.attention.self.key.weight', 'text_encoder.text_encoder.encoder.layer.5.attention.self.key.bias', 'text_encoder.text_encoder.encoder.layer.5.attention.self.value.weight', 'text_encoder.text_encoder.encoder.layer.5.attention.self.value.bias', 'text_encoder.text_encoder.encoder.layer.5.attention.output.dense.weight', 'text_encoder.text_encoder.encoder.layer.5.attention.output.dense.bias', 'text_encoder.text_encoder.encoder.layer.5.attention.output.LayerNorm.weight', 'text_encoder.text_encoder.encoder.layer.5.attention.output.LayerNorm.bias', 'text_encoder.text_encoder.encoder.layer.5.intermediate.dense.weight', 'text_encoder.text_encoder.encoder.layer.5.intermediate.dense.bias', 'text_encoder.text_encoder.encoder.layer.5.output.dense.weight', 'text_encoder.text_encoder.encoder.layer.5.output.dense.bias', 'text_encoder.text_encoder.encoder.layer.5.output.LayerNorm.weight', 'text_encoder.text_encoder.encoder.layer.5.output.LayerNorm.bias', 'text_encoder.text_encoder.encoder.layer.6.attention.self.query.weight', 'text_encoder.text_encoder.encoder.layer.6.attention.self.query.bias', 'text_encoder.text_encoder.encoder.layer.6.attention.self.key.weight', 'text_encoder.text_encoder.encoder.layer.6.attention.self.key.bias', 'text_encoder.text_encoder.encoder.layer.6.attention.self.value.weight', 'text_encoder.text_encoder.encoder.layer.6.attention.self.value.bias', 'text_encoder.text_encoder.encoder.layer.6.attention.output.dense.weight', 'text_encoder.text_encoder.encoder.layer.6.attention.output.dense.bias', 'text_encoder.text_encoder.encoder.layer.6.attention.output.LayerNorm.weight', 'text_encoder.text_encoder.encoder.layer.6.attention.output.LayerNorm.bias', 'text_encoder.text_encoder.encoder.layer.6.intermediate.dense.weight', 'text_encoder.text_encoder.encoder.layer.6.intermediate.dense.bias', 'text_encoder.text_encoder.encoder.layer.6.output.dense.weight', 'text_encoder.text_encoder.encoder.layer.6.output.dense.bias', 'text_encoder.text_encoder.encoder.layer.6.output.LayerNorm.weight', 'text_encoder.text_encoder.encoder.layer.6.output.LayerNorm.bias', 'text_encoder.text_encoder.encoder.layer.7.attention.self.query.weight', 'text_encoder.text_encoder.encoder.layer.7.attention.self.query.bias', 'text_encoder.text_encoder.encoder.layer.7.attention.self.key.weight', 'text_encoder.text_encoder.encoder.layer.7.attention.self.key.bias', 'text_encoder.text_encoder.encoder.layer.7.attention.self.value.weight', 'text_encoder.text_encoder.encoder.layer.7.attention.self.value.bias', 'text_encoder.text_encoder.encoder.layer.7.attention.output.dense.weight', 'text_encoder.text_encoder.encoder.layer.7.attention.output.dense.bias', 'text_encoder.text_encoder.encoder.layer.7.attention.output.LayerNorm.weight', 'text_encoder.text_encoder.encoder.layer.7.attention.output.LayerNorm.bias', 'text_encoder.text_encoder.encoder.layer.7.intermediate.dense.weight', 'text_encoder.text_encoder.encoder.layer.7.intermediate.dense.bias', 'text_encoder.text_encoder.encoder.layer.7.output.dense.weight', 'text_encoder.text_encoder.encoder.layer.7.output.dense.bias', 'text_encoder.text_encoder.encoder.layer.7.output.LayerNorm.weight', 'text_encoder.text_encoder.encoder.layer.7.output.LayerNorm.bias', 'text_encoder.text_encoder.encoder.layer.8.attention.self.query.weight', 'text_encoder.text_encoder.encoder.layer.8.attention.self.query.bias', 'text_encoder.text_encoder.encoder.layer.8.attention.self.key.weight', 'text_encoder.text_encoder.encoder.layer.8.attention.self.key.bias', 'text_encoder.text_encoder.encoder.layer.8.attention.self.value.weight', 'text_encoder.text_encoder.encoder.layer.8.attention.self.value.bias', 'text_encoder.text_encoder.encoder.layer.8.attention.output.dense.weight', 'text_encoder.text_encoder.encoder.layer.8.attention.output.dense.bias', 'text_encoder.text_encoder.encoder.layer.8.attention.output.LayerNorm.weight', 'text_encoder.text_encoder.encoder.layer.8.attention.output.LayerNorm.bias', 'text_encoder.text_encoder.encoder.layer.8.intermediate.dense.weight', 'text_encoder.text_encoder.encoder.layer.8.intermediate.dense.bias', 'text_encoder.text_encoder.encoder.layer.8.output.dense.weight', 'text_encoder.text_encoder.encoder.layer.8.output.dense.bias', 'text_encoder.text_encoder.encoder.layer.8.output.LayerNorm.weight', 'text_encoder.text_encoder.encoder.layer.8.output.LayerNorm.bias', 'text_encoder.text_encoder.encoder.layer.9.attention.self.query.weight', 'text_encoder.text_encoder.encoder.layer.9.attention.self.query.bias', 'text_encoder.text_encoder.encoder.layer.9.attention.self.key.weight', 'text_encoder.text_encoder.encoder.layer.9.attention.self.key.bias', 'text_encoder.text_encoder.encoder.layer.9.attention.self.value.weight', 'text_encoder.text_encoder.encoder.layer.9.attention.self.value.bias', 'text_encoder.text_encoder.encoder.layer.9.attention.output.dense.weight', 'text_encoder.text_encoder.encoder.layer.9.attention.output.dense.bias', 'text_encoder.text_encoder.encoder.layer.9.attention.output.LayerNorm.weight', 'text_encoder.text_encoder.encoder.layer.9.attention.output.LayerNorm.bias', 'text_encoder.text_encoder.encoder.layer.9.intermediate.dense.weight', 'text_encoder.text_encoder.encoder.layer.9.intermediate.dense.bias', 'text_encoder.text_encoder.encoder.layer.9.output.dense.weight', 'text_encoder.text_encoder.encoder.layer.9.output.dense.bias', 'text_encoder.text_encoder.encoder.layer.9.output.LayerNorm.weight', 'text_encoder.text_encoder.encoder.layer.9.output.LayerNorm.bias', 'text_encoder.text_encoder.encoder.layer.10.attention.self.query.weight', 'text_encoder.text_encoder.encoder.layer.10.attention.self.query.bias', 'text_encoder.text_encoder.encoder.layer.10.attention.self.key.weight', 'text_encoder.text_encoder.encoder.layer.10.attention.self.key.bias', 'text_encoder.text_encoder.encoder.layer.10.attention.self.value.weight', 'text_encoder.text_encoder.encoder.layer.10.attention.self.value.bias', 'text_encoder.text_encoder.encoder.layer.10.attention.output.dense.weight', 'text_encoder.text_encoder.encoder.layer.10.attention.output.dense.bias', 'text_encoder.text_encoder.encoder.layer.10.attention.output.LayerNorm.weight', 'text_encoder.text_encoder.encoder.layer.10.attention.output.LayerNorm.bias', 'text_encoder.text_encoder.encoder.layer.10.intermediate.dense.weight', 'text_encoder.text_encoder.encoder.layer.10.intermediate.dense.bias', 'text_encoder.text_encoder.encoder.layer.10.output.dense.weight', 'text_encoder.text_encoder.encoder.layer.10.output.dense.bias', 'text_encoder.text_encoder.encoder.layer.10.output.LayerNorm.weight', 'text_encoder.text_encoder.encoder.layer.10.output.LayerNorm.bias', 'text_encoder.text_encoder.encoder.layer.11.attention.self.query.weight', 'text_encoder.text_encoder.encoder.layer.11.attention.self.query.bias', 'text_encoder.text_encoder.encoder.layer.11.attention.self.key.weight', 'text_encoder.text_encoder.encoder.layer.11.attention.self.key.bias', 'text_encoder.text_encoder.encoder.layer.11.attention.self.value.weight', 'text_encoder.text_encoder.encoder.layer.11.attention.self.value.bias', 'text_encoder.text_encoder.encoder.layer.11.attention.output.dense.weight', 'text_encoder.text_encoder.encoder.layer.11.attention.output.dense.bias', 'text_encoder.text_encoder.encoder.layer.11.attention.output.LayerNorm.weight', 'text_encoder.text_encoder.encoder.layer.11.attention.output.LayerNorm.bias', 'text_encoder.text_encoder.encoder.layer.11.intermediate.dense.weight', 'text_encoder.text_encoder.encoder.layer.11.intermediate.dense.bias', 'text_encoder.text_encoder.encoder.layer.11.output.dense.weight', 'text_encoder.text_encoder.encoder.layer.11.output.dense.bias', 'text_encoder.text_encoder.encoder.layer.11.output.LayerNorm.weight', 'text_encoder.text_encoder.encoder.layer.11.output.LayerNorm.bias', 'text_encoder.text_encoder.pooler.dense.weight', 'text_encoder.text_encoder.pooler.dense.bias', 'image_projection.projection.weight', 'image_projection.projection.bias', 'text_projection.projection.weight', 'text_projection.projection.bias'])\n"
     ]
    }
   ],
   "execution_count": 4
  },
  {
   "metadata": {
    "ExecuteTime": {
     "end_time": "2025-05-13T19:36:57.911603Z",
     "start_time": "2025-05-13T19:36:57.904244Z"
    }
   },
   "cell_type": "code",
   "source": [
    "train_config = yaml.load(open(\"../configs/train/classification.yaml\"), Loader=yaml.FullLoader)\n",
    "transform_config = yaml.load(open(\"../configs/transform/clahe.yaml\"), Loader=yaml.FullLoader)\n",
    "args = argparse.Namespace(\n",
    "    dataset_name='mimic-cxr-mvs',\n",
    "    batch_size=10,\n",
    "    max_length=train_config[\"max_length\"],\n",
    "    image_size=train_config[\"image_size\"],\n",
    "    num_workers=0,\n",
    "    drop_last=True,\n",
    "    use_minio=False\n",
    ")"
   ],
   "id": "525707c891dff649",
   "outputs": [],
   "execution_count": 4
  },
  {
   "metadata": {
    "ExecuteTime": {
     "end_time": "2025-05-13T19:37:01.061615Z",
     "start_time": "2025-05-13T19:36:59.899800Z"
    }
   },
   "cell_type": "code",
   "source": [
    "dataloaders = {\n",
    "    \"train\": CxrDataLoader(\n",
    "        args,\n",
    "        split='train',\n",
    "        transform_config=transform_config,\n",
    "        tokenizer=tokenizer,\n",
    "    ),\n",
    "    \"val\": CxrDataLoader(\n",
    "        args,\n",
    "        split='val',\n",
    "        transform_config=transform_config,\n",
    "        tokenizer=tokenizer,\n",
    "    ),\n",
    "    \"test\": CxrDataLoader(\n",
    "        args,\n",
    "        split='test',\n",
    "        transform_config=transform_config,\n",
    "        tokenizer=tokenizer,\n",
    "    ),\n",
    "}"
   ],
   "id": "ea32c8a204159a50",
   "outputs": [
    {
     "name": "stderr",
     "output_type": "stream",
     "text": [
      "[nltk_data] Downloading package punkt_tab to\n",
      "[nltk_data]     /Users/tudormihaita/nltk_data...\n",
      "[nltk_data]   Package punkt_tab is already up-to-date!\n",
      "[nltk_data] Downloading package punkt_tab to\n",
      "[nltk_data]     /Users/tudormihaita/nltk_data...\n",
      "[nltk_data]   Package punkt_tab is already up-to-date!\n",
      "[nltk_data] Downloading package punkt_tab to\n",
      "[nltk_data]     /Users/tudormihaita/nltk_data...\n",
      "[nltk_data]   Package punkt_tab is already up-to-date!\n"
     ]
    }
   ],
   "execution_count": 5
  },
  {
   "metadata": {
    "ExecuteTime": {
     "end_time": "2025-05-13T19:37:03.597974Z",
     "start_time": "2025-05-13T19:37:03.589584Z"
    }
   },
   "cell_type": "code",
   "source": [
    "trainer = CXRCLIPTrainer(\n",
    "    model=model,\n",
    "    config=train_config,\n",
    "    loss_fn=loss_fn,\n",
    "    train_loader=dataloaders[\"train\"],\n",
    "    val_loader=dataloaders[\"val\"],\n",
    "    test_loader=dataloaders[\"test\"],\n",
    "    mixed_precision=False\n",
    ")"
   ],
   "id": "c6f8e2e4cb80e5c0",
   "outputs": [
    {
     "name": "stderr",
     "output_type": "stream",
     "text": [
      "2025-05-13 22:37:03,596 - INFO - Total parameters: 27,530,120\n",
      "2025-05-13 22:37:03,596 - INFO - Trainable parameters: 10,766 (0.04%)\n"
     ]
    }
   ],
   "execution_count": 6
  },
  {
   "metadata": {
    "ExecuteTime": {
     "end_time": "2025-05-13T19:37:07.914852Z",
     "start_time": "2025-05-13T19:37:07.907434Z"
    }
   },
   "cell_type": "code",
   "source": [
    "trainer = CXRClassifierTrainer(\n",
    "    model=model,\n",
    "    config=train_config,\n",
    "    loss_fn=loss_fn,\n",
    "    train_loader=dataloaders[\"train\"],\n",
    "    val_loader=dataloaders[\"val\"],\n",
    "    mixed_precision=False\n",
    ")"
   ],
   "id": "2d659c505795fcb1",
   "outputs": [
    {
     "name": "stderr",
     "output_type": "stream",
     "text": [
      "2025-05-13 22:37:07,913 - INFO - Total parameters: 27,530,120\n",
      "2025-05-13 22:37:07,913 - INFO - Trainable parameters: 10,766 (0.04%)\n"
     ]
    }
   ],
   "execution_count": 7
  },
  {
   "metadata": {
    "ExecuteTime": {
     "end_time": "2025-05-13T19:37:15.371253Z",
     "start_time": "2025-05-13T19:37:11.046041Z"
    }
   },
   "cell_type": "code",
   "source": "trainer.train()",
   "id": "5bb74f1da1bf5082",
   "outputs": [
    {
     "name": "stderr",
     "output_type": "stream",
     "text": [
      "2025-05-13 22:37:11,046 - INFO - Start training\n",
      "2025-05-13 22:37:11,047 - INFO - Starting epoch 1/10\n",
      "Epoch 1/10:   0%|          | 8/21342 [00:04<2:58:31,  1.99it/s]\n"
     ]
    },
    {
     "ename": "KeyboardInterrupt",
     "evalue": "",
     "output_type": "error",
     "traceback": [
      "\u001B[0;31m---------------------------------------------------------------------------\u001B[0m",
      "\u001B[0;31mKeyboardInterrupt\u001B[0m                         Traceback (most recent call last)",
      "Cell \u001B[0;32mIn[8], line 1\u001B[0m\n\u001B[0;32m----> 1\u001B[0m \u001B[43mtrainer\u001B[49m\u001B[38;5;241;43m.\u001B[39;49m\u001B[43mtrain\u001B[49m\u001B[43m(\u001B[49m\u001B[43m)\u001B[49m\n",
      "File \u001B[0;32m~/PycharmProjects/clip-cxr-report-gen/cxrclip/finetune.py:128\u001B[0m, in \u001B[0;36mCXRClassifierTrainer.train\u001B[0;34m(self)\u001B[0m\n\u001B[1;32m    125\u001B[0m epoch_loss \u001B[38;5;241m=\u001B[39m \u001B[38;5;241m0.0\u001B[39m\n\u001B[1;32m    126\u001B[0m epoch_start_time \u001B[38;5;241m=\u001B[39m time\u001B[38;5;241m.\u001B[39mtime()\n\u001B[0;32m--> 128\u001B[0m \u001B[38;5;28;01mfor\u001B[39;00m batch_idx, batch \u001B[38;5;129;01min\u001B[39;00m \u001B[38;5;28menumerate\u001B[39m(tqdm(\u001B[38;5;28mself\u001B[39m\u001B[38;5;241m.\u001B[39mtrain_loader, desc\u001B[38;5;241m=\u001B[39m\u001B[38;5;124mf\u001B[39m\u001B[38;5;124m\"\u001B[39m\u001B[38;5;124mEpoch \u001B[39m\u001B[38;5;132;01m{\u001B[39;00mepoch\u001B[38;5;250m \u001B[39m\u001B[38;5;241m+\u001B[39m\u001B[38;5;250m \u001B[39m\u001B[38;5;241m1\u001B[39m\u001B[38;5;132;01m}\u001B[39;00m\u001B[38;5;124m/\u001B[39m\u001B[38;5;132;01m{\u001B[39;00m\u001B[38;5;28mself\u001B[39m\u001B[38;5;241m.\u001B[39mnum_epochs\u001B[38;5;132;01m}\u001B[39;00m\u001B[38;5;124m\"\u001B[39m)):\n\u001B[1;32m    129\u001B[0m     \u001B[38;5;28;01mif\u001B[39;00m (\u001B[38;5;28mself\u001B[39m\u001B[38;5;241m.\u001B[39mglobal_step \u001B[38;5;241m+\u001B[39m \u001B[38;5;241m1\u001B[39m) \u001B[38;5;241m>\u001B[39m\u001B[38;5;241m=\u001B[39m \u001B[38;5;28mself\u001B[39m\u001B[38;5;241m.\u001B[39mmax_steps:\n\u001B[1;32m    130\u001B[0m         \u001B[38;5;28mself\u001B[39m\u001B[38;5;241m.\u001B[39mlogger\u001B[38;5;241m.\u001B[39minfo(\u001B[38;5;124mf\u001B[39m\u001B[38;5;124m\"\u001B[39m\u001B[38;5;124mReached maximum steps \u001B[39m\u001B[38;5;132;01m{\u001B[39;00m\u001B[38;5;28mself\u001B[39m\u001B[38;5;241m.\u001B[39mmax_steps\u001B[38;5;132;01m}\u001B[39;00m\u001B[38;5;124m. Stopping training.\u001B[39m\u001B[38;5;124m\"\u001B[39m)\n",
      "File \u001B[0;32m~/PycharmProjects/clip-cxr-report-gen/.venv/lib/python3.9/site-packages/tqdm/std.py:1181\u001B[0m, in \u001B[0;36mtqdm.__iter__\u001B[0;34m(self)\u001B[0m\n\u001B[1;32m   1178\u001B[0m time \u001B[38;5;241m=\u001B[39m \u001B[38;5;28mself\u001B[39m\u001B[38;5;241m.\u001B[39m_time\n\u001B[1;32m   1180\u001B[0m \u001B[38;5;28;01mtry\u001B[39;00m:\n\u001B[0;32m-> 1181\u001B[0m     \u001B[38;5;28;01mfor\u001B[39;00m obj \u001B[38;5;129;01min\u001B[39;00m iterable:\n\u001B[1;32m   1182\u001B[0m         \u001B[38;5;28;01myield\u001B[39;00m obj\n\u001B[1;32m   1183\u001B[0m         \u001B[38;5;66;03m# Update and possibly print the progressbar.\u001B[39;00m\n\u001B[1;32m   1184\u001B[0m         \u001B[38;5;66;03m# Note: does not call self.update(1) for speed optimisation.\u001B[39;00m\n",
      "File \u001B[0;32m~/PycharmProjects/clip-cxr-report-gen/.venv/lib/python3.9/site-packages/torch/utils/data/dataloader.py:708\u001B[0m, in \u001B[0;36m_BaseDataLoaderIter.__next__\u001B[0;34m(self)\u001B[0m\n\u001B[1;32m    705\u001B[0m \u001B[38;5;28;01mif\u001B[39;00m \u001B[38;5;28mself\u001B[39m\u001B[38;5;241m.\u001B[39m_sampler_iter \u001B[38;5;129;01mis\u001B[39;00m \u001B[38;5;28;01mNone\u001B[39;00m:\n\u001B[1;32m    706\u001B[0m     \u001B[38;5;66;03m# TODO(https://github.com/pytorch/pytorch/issues/76750)\u001B[39;00m\n\u001B[1;32m    707\u001B[0m     \u001B[38;5;28mself\u001B[39m\u001B[38;5;241m.\u001B[39m_reset()  \u001B[38;5;66;03m# type: ignore[call-arg]\u001B[39;00m\n\u001B[0;32m--> 708\u001B[0m data \u001B[38;5;241m=\u001B[39m \u001B[38;5;28;43mself\u001B[39;49m\u001B[38;5;241;43m.\u001B[39;49m\u001B[43m_next_data\u001B[49m\u001B[43m(\u001B[49m\u001B[43m)\u001B[49m\n\u001B[1;32m    709\u001B[0m \u001B[38;5;28mself\u001B[39m\u001B[38;5;241m.\u001B[39m_num_yielded \u001B[38;5;241m+\u001B[39m\u001B[38;5;241m=\u001B[39m \u001B[38;5;241m1\u001B[39m\n\u001B[1;32m    710\u001B[0m \u001B[38;5;28;01mif\u001B[39;00m (\n\u001B[1;32m    711\u001B[0m     \u001B[38;5;28mself\u001B[39m\u001B[38;5;241m.\u001B[39m_dataset_kind \u001B[38;5;241m==\u001B[39m _DatasetKind\u001B[38;5;241m.\u001B[39mIterable\n\u001B[1;32m    712\u001B[0m     \u001B[38;5;129;01mand\u001B[39;00m \u001B[38;5;28mself\u001B[39m\u001B[38;5;241m.\u001B[39m_IterableDataset_len_called \u001B[38;5;129;01mis\u001B[39;00m \u001B[38;5;129;01mnot\u001B[39;00m \u001B[38;5;28;01mNone\u001B[39;00m\n\u001B[1;32m    713\u001B[0m     \u001B[38;5;129;01mand\u001B[39;00m \u001B[38;5;28mself\u001B[39m\u001B[38;5;241m.\u001B[39m_num_yielded \u001B[38;5;241m>\u001B[39m \u001B[38;5;28mself\u001B[39m\u001B[38;5;241m.\u001B[39m_IterableDataset_len_called\n\u001B[1;32m    714\u001B[0m ):\n",
      "File \u001B[0;32m~/PycharmProjects/clip-cxr-report-gen/.venv/lib/python3.9/site-packages/torch/utils/data/dataloader.py:764\u001B[0m, in \u001B[0;36m_SingleProcessDataLoaderIter._next_data\u001B[0;34m(self)\u001B[0m\n\u001B[1;32m    762\u001B[0m \u001B[38;5;28;01mdef\u001B[39;00m\u001B[38;5;250m \u001B[39m\u001B[38;5;21m_next_data\u001B[39m(\u001B[38;5;28mself\u001B[39m):\n\u001B[1;32m    763\u001B[0m     index \u001B[38;5;241m=\u001B[39m \u001B[38;5;28mself\u001B[39m\u001B[38;5;241m.\u001B[39m_next_index()  \u001B[38;5;66;03m# may raise StopIteration\u001B[39;00m\n\u001B[0;32m--> 764\u001B[0m     data \u001B[38;5;241m=\u001B[39m \u001B[38;5;28;43mself\u001B[39;49m\u001B[38;5;241;43m.\u001B[39;49m\u001B[43m_dataset_fetcher\u001B[49m\u001B[38;5;241;43m.\u001B[39;49m\u001B[43mfetch\u001B[49m\u001B[43m(\u001B[49m\u001B[43mindex\u001B[49m\u001B[43m)\u001B[49m  \u001B[38;5;66;03m# may raise StopIteration\u001B[39;00m\n\u001B[1;32m    765\u001B[0m     \u001B[38;5;28;01mif\u001B[39;00m \u001B[38;5;28mself\u001B[39m\u001B[38;5;241m.\u001B[39m_pin_memory:\n\u001B[1;32m    766\u001B[0m         data \u001B[38;5;241m=\u001B[39m _utils\u001B[38;5;241m.\u001B[39mpin_memory\u001B[38;5;241m.\u001B[39mpin_memory(data, \u001B[38;5;28mself\u001B[39m\u001B[38;5;241m.\u001B[39m_pin_memory_device)\n",
      "File \u001B[0;32m~/PycharmProjects/clip-cxr-report-gen/.venv/lib/python3.9/site-packages/torch/utils/data/_utils/fetch.py:52\u001B[0m, in \u001B[0;36m_MapDatasetFetcher.fetch\u001B[0;34m(self, possibly_batched_index)\u001B[0m\n\u001B[1;32m     50\u001B[0m         data \u001B[38;5;241m=\u001B[39m \u001B[38;5;28mself\u001B[39m\u001B[38;5;241m.\u001B[39mdataset\u001B[38;5;241m.\u001B[39m__getitems__(possibly_batched_index)\n\u001B[1;32m     51\u001B[0m     \u001B[38;5;28;01melse\u001B[39;00m:\n\u001B[0;32m---> 52\u001B[0m         data \u001B[38;5;241m=\u001B[39m [\u001B[38;5;28mself\u001B[39m\u001B[38;5;241m.\u001B[39mdataset[idx] \u001B[38;5;28;01mfor\u001B[39;00m idx \u001B[38;5;129;01min\u001B[39;00m possibly_batched_index]\n\u001B[1;32m     53\u001B[0m \u001B[38;5;28;01melse\u001B[39;00m:\n\u001B[1;32m     54\u001B[0m     data \u001B[38;5;241m=\u001B[39m \u001B[38;5;28mself\u001B[39m\u001B[38;5;241m.\u001B[39mdataset[possibly_batched_index]\n",
      "File \u001B[0;32m~/PycharmProjects/clip-cxr-report-gen/.venv/lib/python3.9/site-packages/torch/utils/data/_utils/fetch.py:52\u001B[0m, in \u001B[0;36m<listcomp>\u001B[0;34m(.0)\u001B[0m\n\u001B[1;32m     50\u001B[0m         data \u001B[38;5;241m=\u001B[39m \u001B[38;5;28mself\u001B[39m\u001B[38;5;241m.\u001B[39mdataset\u001B[38;5;241m.\u001B[39m__getitems__(possibly_batched_index)\n\u001B[1;32m     51\u001B[0m     \u001B[38;5;28;01melse\u001B[39;00m:\n\u001B[0;32m---> 52\u001B[0m         data \u001B[38;5;241m=\u001B[39m [\u001B[38;5;28;43mself\u001B[39;49m\u001B[38;5;241;43m.\u001B[39;49m\u001B[43mdataset\u001B[49m\u001B[43m[\u001B[49m\u001B[43midx\u001B[49m\u001B[43m]\u001B[49m \u001B[38;5;28;01mfor\u001B[39;00m idx \u001B[38;5;129;01min\u001B[39;00m possibly_batched_index]\n\u001B[1;32m     53\u001B[0m \u001B[38;5;28;01melse\u001B[39;00m:\n\u001B[1;32m     54\u001B[0m     data \u001B[38;5;241m=\u001B[39m \u001B[38;5;28mself\u001B[39m\u001B[38;5;241m.\u001B[39mdataset[possibly_batched_index]\n",
      "File \u001B[0;32m~/PycharmProjects/clip-cxr-report-gen/data/datasets.py:130\u001B[0m, in \u001B[0;36mMimicCxrMVSDataset.__getitem__\u001B[0;34m(self, idx)\u001B[0m\n\u001B[1;32m    128\u001B[0m image_original \u001B[38;5;241m=\u001B[39m image\u001B[38;5;241m.\u001B[39mcopy()\n\u001B[1;32m    129\u001B[0m image \u001B[38;5;241m=\u001B[39m transform_image(\u001B[38;5;28mself\u001B[39m\u001B[38;5;241m.\u001B[39mtransform, image)\n\u001B[0;32m--> 130\u001B[0m augmented_image \u001B[38;5;241m=\u001B[39m \u001B[43mtransform_image\u001B[49m\u001B[43m(\u001B[49m\u001B[38;5;28;43mself\u001B[39;49m\u001B[38;5;241;43m.\u001B[39;49m\u001B[43mtransform\u001B[49m\u001B[43m,\u001B[49m\u001B[43m \u001B[49m\u001B[43mimage_original\u001B[49m\u001B[43m)\u001B[49m\n\u001B[1;32m    132\u001B[0m \u001B[38;5;28;01mif\u001B[39;00m \u001B[38;5;28mself\u001B[39m\u001B[38;5;241m.\u001B[39msplit \u001B[38;5;241m==\u001B[39m \u001B[38;5;124m'\u001B[39m\u001B[38;5;124mtrain\u001B[39m\u001B[38;5;124m'\u001B[39m:\n\u001B[1;32m    133\u001B[0m     sentences \u001B[38;5;241m=\u001B[39m sent_tokenize(report)\n",
      "File \u001B[0;32m~/PycharmProjects/clip-cxr-report-gen/data/__init__.py:65\u001B[0m, in \u001B[0;36mtransform_image\u001B[0;34m(image_transforms, image)\u001B[0m\n\u001B[1;32m     62\u001B[0m         image \u001B[38;5;241m=\u001B[39m tr(image)\n\u001B[1;32m     64\u001B[0m     \u001B[38;5;28;01mif\u001B[39;00m \u001B[38;5;129;01mnot\u001B[39;00m \u001B[38;5;28misinstance\u001B[39m(image, torch\u001B[38;5;241m.\u001B[39mTensor):\n\u001B[0;32m---> 65\u001B[0m         image \u001B[38;5;241m=\u001B[39m \u001B[43mtransforms\u001B[49m\u001B[38;5;241;43m.\u001B[39;49m\u001B[43mToTensor\u001B[49m\u001B[43m(\u001B[49m\u001B[43m)\u001B[49m\u001B[43m(\u001B[49m\u001B[43mimage\u001B[49m\u001B[43m)\u001B[49m\n\u001B[1;32m     66\u001B[0m     image \u001B[38;5;241m=\u001B[39m transforms\u001B[38;5;241m.\u001B[39mNormalize(mean\u001B[38;5;241m=\u001B[39m[\u001B[38;5;241m0.5\u001B[39m] \u001B[38;5;241m*\u001B[39m \u001B[38;5;241m3\u001B[39m, std\u001B[38;5;241m=\u001B[39m[\u001B[38;5;241m0.5\u001B[39m] \u001B[38;5;241m*\u001B[39m \u001B[38;5;241m3\u001B[39m)(image)\n\u001B[1;32m     68\u001B[0m \u001B[38;5;28;01mreturn\u001B[39;00m image\n",
      "File \u001B[0;32m~/PycharmProjects/clip-cxr-report-gen/.venv/lib/python3.9/site-packages/torchvision/transforms/transforms.py:137\u001B[0m, in \u001B[0;36mToTensor.__call__\u001B[0;34m(self, pic)\u001B[0m\n\u001B[1;32m    129\u001B[0m \u001B[38;5;28;01mdef\u001B[39;00m\u001B[38;5;250m \u001B[39m\u001B[38;5;21m__call__\u001B[39m(\u001B[38;5;28mself\u001B[39m, pic):\n\u001B[1;32m    130\u001B[0m \u001B[38;5;250m    \u001B[39m\u001B[38;5;124;03m\"\"\"\u001B[39;00m\n\u001B[1;32m    131\u001B[0m \u001B[38;5;124;03m    Args:\u001B[39;00m\n\u001B[1;32m    132\u001B[0m \u001B[38;5;124;03m        pic (PIL Image or numpy.ndarray): Image to be converted to tensor.\u001B[39;00m\n\u001B[0;32m   (...)\u001B[0m\n\u001B[1;32m    135\u001B[0m \u001B[38;5;124;03m        Tensor: Converted image.\u001B[39;00m\n\u001B[1;32m    136\u001B[0m \u001B[38;5;124;03m    \"\"\"\u001B[39;00m\n\u001B[0;32m--> 137\u001B[0m     \u001B[38;5;28;01mreturn\u001B[39;00m \u001B[43mF\u001B[49m\u001B[38;5;241;43m.\u001B[39;49m\u001B[43mto_tensor\u001B[49m\u001B[43m(\u001B[49m\u001B[43mpic\u001B[49m\u001B[43m)\u001B[49m\n",
      "File \u001B[0;32m~/PycharmProjects/clip-cxr-report-gen/.venv/lib/python3.9/site-packages/torchvision/transforms/functional.py:144\u001B[0m, in \u001B[0;36mto_tensor\u001B[0;34m(pic)\u001B[0m\n\u001B[1;32m    141\u001B[0m \u001B[38;5;28;01mif\u001B[39;00m \u001B[38;5;129;01mnot\u001B[39;00m (F_pil\u001B[38;5;241m.\u001B[39m_is_pil_image(pic) \u001B[38;5;129;01mor\u001B[39;00m _is_numpy(pic)):\n\u001B[1;32m    142\u001B[0m     \u001B[38;5;28;01mraise\u001B[39;00m \u001B[38;5;167;01mTypeError\u001B[39;00m(\u001B[38;5;124mf\u001B[39m\u001B[38;5;124m\"\u001B[39m\u001B[38;5;124mpic should be PIL Image or ndarray. Got \u001B[39m\u001B[38;5;132;01m{\u001B[39;00m\u001B[38;5;28mtype\u001B[39m(pic)\u001B[38;5;132;01m}\u001B[39;00m\u001B[38;5;124m\"\u001B[39m)\n\u001B[0;32m--> 144\u001B[0m \u001B[38;5;28;01mif\u001B[39;00m _is_numpy(pic) \u001B[38;5;129;01mand\u001B[39;00m \u001B[38;5;129;01mnot\u001B[39;00m \u001B[43m_is_numpy_image\u001B[49m\u001B[43m(\u001B[49m\u001B[43mpic\u001B[49m\u001B[43m)\u001B[49m:\n\u001B[1;32m    145\u001B[0m     \u001B[38;5;28;01mraise\u001B[39;00m \u001B[38;5;167;01mValueError\u001B[39;00m(\u001B[38;5;124mf\u001B[39m\u001B[38;5;124m\"\u001B[39m\u001B[38;5;124mpic should be 2/3 dimensional. Got \u001B[39m\u001B[38;5;132;01m{\u001B[39;00mpic\u001B[38;5;241m.\u001B[39mndim\u001B[38;5;132;01m}\u001B[39;00m\u001B[38;5;124m dimensions.\u001B[39m\u001B[38;5;124m\"\u001B[39m)\n\u001B[1;32m    147\u001B[0m default_float_dtype \u001B[38;5;241m=\u001B[39m torch\u001B[38;5;241m.\u001B[39mget_default_dtype()\n",
      "\u001B[0;31mKeyboardInterrupt\u001B[0m: "
     ]
    }
   ],
   "execution_count": 8
  },
  {
   "metadata": {
    "ExecuteTime": {
     "end_time": "2025-05-10T16:38:36.755730Z",
     "start_time": "2025-05-10T16:38:35.953106Z"
    }
   },
   "cell_type": "code",
   "source": [
    "model = model.eval()\n",
    "batch = next(iter(dataloaders[\"test\"]))\n",
    "text_tokens, images = batch['text_tokens'], batch['images']\n",
    "\n",
    "text_features = model.encode_text(text_tokens)\n",
    "text_embeddings = model.text_projection(text_features) if model.projection else text_features\n",
    "text_embeddings = text_embeddings / text_embeddings.norm(dim=-1, keepdim=True)\n",
    "\n",
    "image_features = model.encode_image(images.to(\"cpu\"))\n",
    "image_embeddings = model.image_projection(image_features) if model.projection else image_features\n",
    "image_embeddings = image_embeddings / image_embeddings.norm(dim=1, keepdim=True)\n",
    "\n",
    "logit_scale = model.logit_scale.exp() if hasattr(model, \"logit_scale\") else 1.0\n",
    "img_emb_np = image_embeddings.detach().cpu().numpy()\n",
    "txt_emb_np = text_embeddings.detach().cpu().numpy()\n",
    "print(img_emb_np)\n",
    "print('--'*50)\n",
    "print(txt_emb_np)\n",
    "similarity = cosine_similarity(img_emb_np, txt_emb_np)"
   ],
   "id": "2df77aafedf4634b",
   "outputs": [
    {
     "name": "stdout",
     "output_type": "stream",
     "text": [
      "[[ 0.0061316  -0.03746258 -0.00552692 ... -0.01597597  0.07104068\n",
      "  -0.03430329]\n",
      " [ 0.02979386 -0.04889434 -0.01376592 ... -0.0347896   0.05679735\n",
      "  -0.02712028]\n",
      " [-0.00903004 -0.00236584 -0.08991247 ... -0.01014688  0.05448613\n",
      "  -0.05474591]\n",
      " ...\n",
      " [ 0.03245471 -0.08994813 -0.01800193 ... -0.00027211  0.05864318\n",
      "  -0.02993914]\n",
      " [ 0.02253014 -0.07069562 -0.04279006 ... -0.01310391  0.05557358\n",
      "  -0.05665778]\n",
      " [ 0.0310822  -0.11205779 -0.05171361 ... -0.02917441  0.0460053\n",
      "  -0.02591157]]\n",
      "----------------------------------------------------------------------------------------------------\n",
      "[[-2.0598393e-02  4.1717660e-02 -3.4079753e-02 ...  2.0395651e-02\n",
      "   7.7168327e-03 -6.0038403e-02]\n",
      " [ 3.3757053e-02  7.2506763e-02 -2.5970119e-03 ...  3.3731177e-02\n",
      "   3.7059452e-02 -2.5211286e-02]\n",
      " [-2.2289025e-02 -6.4187758e-03 -7.3471136e-02 ... -1.7377814e-02\n",
      "   2.3404310e-02 -3.8375787e-02]\n",
      " ...\n",
      " [ 3.0994809e-06 -1.5908055e-02 -5.4595426e-02 ... -5.0807994e-02\n",
      "   3.0702025e-02 -5.8977563e-02]\n",
      " [ 3.0994809e-06 -1.5908055e-02 -5.4595426e-02 ... -5.0807994e-02\n",
      "   3.0702025e-02 -5.8977563e-02]\n",
      " [ 3.0994809e-06 -1.5908055e-02 -5.4595426e-02 ... -5.0807994e-02\n",
      "   3.0702025e-02 -5.8977563e-02]]\n"
     ]
    }
   ],
   "execution_count": 10
  },
  {
   "metadata": {
    "ExecuteTime": {
     "end_time": "2025-05-10T16:38:40.247567Z",
     "start_time": "2025-05-10T16:38:40.096331Z"
    }
   },
   "cell_type": "code",
   "source": [
    "import matplotlib.pyplot as plt\n",
    "import seaborn as sns\n",
    "\n",
    "\n",
    "# similarity_np = similarity.detach().cpu().numpy()\n",
    "similarity_np = similarity\n",
    "\n",
    "plt.figure(figsize=(8, 6))\n",
    "sns.heatmap(similarity_np, annot=True, fmt=\".2f\", cmap=\"viridis\",\n",
    "            xticklabels=[f\"Text {i}\" for i in range(similarity_np.shape[1])],\n",
    "            yticklabels=[f\"Image {i}\" for i in range(similarity_np.shape[0])])\n",
    "plt.title(\"Image-Text Similarity Matrix\")\n",
    "plt.xlabel(\"Text\")\n",
    "plt.ylabel(\"Image\")\n",
    "plt.tight_layout()\n",
    "plt.show()"
   ],
   "id": "4c0f1a069ccf332e",
   "outputs": [
    {
     "data": {
      "text/plain": [
       "<Figure size 800x600 with 2 Axes>"
      ],
      "image/png": "[encoded data removed]"
     },
     "metadata": {},
     "output_type": "display_data"
    }
   ],
   "execution_count": 11
  },
  {
   "metadata": {
    "ExecuteTime": {
     "end_time": "2025-05-10T16:39:12.378517Z",
     "start_time": "2025-05-10T16:39:10.181273Z"
    }
   },
   "cell_type": "code",
   "source": [
    "images, labels = batch['images'], batch['labels']\n",
    "\n",
    "# Class names\n",
    "class_names = CHEXPERT_LABELS # Replace with your class names\n",
    "\n",
    "# Create positive and negative prompts\n",
    "negative_prompts = [f\"No {cls_name}\" for cls_name in class_names]\n",
    "positive_prompts = [cls_name for cls_name in class_names]\n",
    "all_prompts = []\n",
    "for neg, pos in zip(negative_prompts, positive_prompts):\n",
    "    all_prompts.extend([neg, pos])\n",
    "\n",
    "# Get text embeddings\n",
    "with torch.no_grad():\n",
    "    text_tokens = tokenizer(all_prompts, padding=\"max_length\", truncation=True,\n",
    "                          max_length=256, return_tensors=\"pt\").to(\"cpu\")\n",
    "    text_features = model.encode_text(text_tokens)\n",
    "    text_embeddings = model.text_projection(text_features) if hasattr(model, \"projection\") and model.projection else text_features\n",
    "    text_embeddings = text_embeddings / text_embeddings.norm(dim=1, keepdim=True)\n",
    "\n",
    "    # Get image embeddings\n",
    "    image_features = model.encode_image(images.to(\"cpu\"))\n",
    "    image_embeddings = model.image_projection(image_features) if hasattr(model, \"projection\") and model.projection else image_features\n",
    "    image_embeddings = image_embeddings / image_embeddings.norm(dim=1, keepdim=True)\n",
    "\n",
    "    similarity = torch.matmul(image_embeddings, text_embeddings.T) * logit_scale\n",
    "\n",
    "    # Extract probabilities for each class\n",
    "    predictions = torch.zeros(len(images), len(class_names), device=\"cpu\")\n",
    "    for i, class_name in enumerate(class_names):\n",
    "        neg_idx = i * 2\n",
    "        pos_idx = i * 2 + 1\n",
    "\n",
    "        # Get similarities for this class\n",
    "        class_similarities = similarity[:, [neg_idx, pos_idx]]\n",
    "\n",
    "        # Apply softmax to get probabilities\n",
    "        class_probs = torch.nn.functional.softmax(class_similarities, dim=1)\n",
    "\n",
    "        # Store positive class probability\n",
    "        predictions[:, i] = class_probs[:, 1]\n",
    "\n",
    "predictions = predictions.detach().cpu().numpy()\n",
    "labels = labels.detach().cpu().numpy()\n",
    "# Display results for the first few samples\n",
    "for i in range(min(5, len(images))):\n",
    "    print(f\"\\nSample {i+1}:\")\n",
    "    print(f\"Ground truth: {labels[i]}\")\n",
    "    print(f\"Predictions:\")\n",
    "    for j, cls_name in enumerate(class_names):\n",
    "        print(f\"  {cls_name}: {predictions[i, j]:.4f}\")"
   ],
   "id": "be81e048afd53f35",
   "outputs": [
    {
     "name": "stdout",
     "output_type": "stream",
     "text": [
      "\n",
      "Sample 1:\n",
      "Ground truth: [0. 0. 0. 0. 0. 0. 0. 0. 1. 0. 0. 0. 0. 1.]\n",
      "Predictions:\n",
      "  Atelectasis: 0.2347\n",
      "  Cardiomegaly: 0.1078\n",
      "  Consolidation: 0.2522\n",
      "  Edema: 0.1184\n",
      "  Enlarged Cardiomediastinum: 0.8129\n",
      "  Fracture: 0.0734\n",
      "  Lung Lesion: 0.5827\n",
      "  Lung Opacity: 0.4689\n",
      "  No Finding: 0.3402\n",
      "  Pleural Effusion: 0.1040\n",
      "  Pleural Other: 0.0649\n",
      "  Pneumonia: 0.3271\n",
      "  Pneumothorax: 0.3778\n",
      "  Support Devices: 0.9201\n",
      "\n",
      "Sample 2:\n",
      "Ground truth: [0. 0. 0. 0. 0. 0. 0. 0. 1. 0. 0. 0. 0. 1.]\n",
      "Predictions:\n",
      "  Atelectasis: 0.1303\n",
      "  Cardiomegaly: 0.0438\n",
      "  Consolidation: 0.1969\n",
      "  Edema: 0.1146\n",
      "  Enlarged Cardiomediastinum: 0.8191\n",
      "  Fracture: 0.1104\n",
      "  Lung Lesion: 0.6475\n",
      "  Lung Opacity: 0.2736\n",
      "  No Finding: 0.3511\n",
      "  Pleural Effusion: 0.1278\n",
      "  Pleural Other: 0.0750\n",
      "  Pneumonia: 0.3242\n",
      "  Pneumothorax: 0.3802\n",
      "  Support Devices: 0.9011\n",
      "\n",
      "Sample 3:\n",
      "Ground truth: [0. 0. 0. 0. 0. 0. 0. 0. 1. 0. 0. 0. 0. 0.]\n",
      "Predictions:\n",
      "  Atelectasis: 0.6964\n",
      "  Cardiomegaly: 0.6401\n",
      "  Consolidation: 0.0514\n",
      "  Edema: 0.1649\n",
      "  Enlarged Cardiomediastinum: 0.7247\n",
      "  Fracture: 0.0735\n",
      "  Lung Lesion: 0.4417\n",
      "  Lung Opacity: 0.2397\n",
      "  No Finding: 0.5140\n",
      "  Pleural Effusion: 0.2518\n",
      "  Pleural Other: 0.5566\n",
      "  Pneumonia: 0.0678\n",
      "  Pneumothorax: 0.3515\n",
      "  Support Devices: 0.0233\n",
      "\n",
      "Sample 4:\n",
      "Ground truth: [0. 0. 0. 0. 0. 0. 0. 0. 1. 0. 0. 0. 0. 0.]\n",
      "Predictions:\n",
      "  Atelectasis: 0.3367\n",
      "  Cardiomegaly: 0.4038\n",
      "  Consolidation: 0.0379\n",
      "  Edema: 0.0299\n",
      "  Enlarged Cardiomediastinum: 0.9240\n",
      "  Fracture: 0.0962\n",
      "  Lung Lesion: 0.5235\n",
      "  Lung Opacity: 0.1078\n",
      "  No Finding: 0.3968\n",
      "  Pleural Effusion: 0.1171\n",
      "  Pleural Other: 0.3530\n",
      "  Pneumonia: 0.0226\n",
      "  Pneumothorax: 0.1376\n",
      "  Support Devices: 0.0348\n",
      "\n",
      "Sample 5:\n",
      "Ground truth: [0. 0. 0. 0. 0. 0. 0. 0. 1. 0. 0. 0. 0. 0.]\n",
      "Predictions:\n",
      "  Atelectasis: 0.6675\n",
      "  Cardiomegaly: 0.8976\n",
      "  Consolidation: 0.0510\n",
      "  Edema: 0.1775\n",
      "  Enlarged Cardiomediastinum: 0.6450\n",
      "  Fracture: 0.0820\n",
      "  Lung Lesion: 0.5565\n",
      "  Lung Opacity: 0.2184\n",
      "  No Finding: 0.5526\n",
      "  Pleural Effusion: 0.4060\n",
      "  Pleural Other: 0.6176\n",
      "  Pneumonia: 0.0422\n",
      "  Pneumothorax: 0.1898\n",
      "  Support Devices: 0.0321\n"
     ]
    }
   ],
   "execution_count": 12
  },
  {
   "metadata": {
    "ExecuteTime": {
     "end_time": "2025-05-10T16:44:21.897950Z",
     "start_time": "2025-05-10T16:44:19.702619Z"
    }
   },
   "cell_type": "code",
   "source": [
    "images, labels = batch['images'], batch['labels']\n",
    "class_names = CHEXPERT_LABELS\n",
    "\n",
    "# Generate prompts\n",
    "prompt_pairs = [(f\"No {cls}\", cls) for cls in class_names]\n",
    "all_prompts = [prompt for pair in prompt_pairs for prompt in pair]  # Flatten\n",
    "\n",
    "with torch.no_grad():\n",
    "    # Tokenize prompts\n",
    "    text_tokens = tokenizer(all_prompts, padding=\"max_length\", truncation=True,\n",
    "                            max_length=256, return_tensors=\"pt\").to(images.device)\n",
    "    text_features = model.encode_text(text_tokens)\n",
    "    text_embeddings = model.text_projection(text_features) if hasattr(model, \"projection\") and model.projection else text_features\n",
    "    text_embeddings = text_embeddings / text_embeddings.norm(dim=1, keepdim=True)\n",
    "\n",
    "    # Encode images\n",
    "    image_features = model.encode_image(images)\n",
    "    image_embeddings = model.image_projection(image_features) if hasattr(model, \"projection\") and model.projection else image_features\n",
    "    image_embeddings = image_embeddings / image_embeddings.norm(dim=1, keepdim=True)\n",
    "\n",
    "    # Compute similarity scores\n",
    "    similarity = torch.matmul(image_embeddings, text_embeddings.T) * logit_scale\n",
    "\n",
    "    predictions = torch.zeros(len(images), len(class_names), device=images.device)\n",
    "    for i, (neg_prompt, pos_prompt) in enumerate(prompt_pairs):\n",
    "        neg_idx, pos_idx = i * 2, i * 2 + 1\n",
    "        class_sim = similarity[:, [neg_idx, pos_idx]]  # (B, 2)\n",
    "        class_probs = torch.nn.functional.softmax(class_sim, dim=1)\n",
    "        predictions[:, i] = class_probs[:, 1]  # Probability of positive class\n",
    "\n",
    "# Detach for logging\n",
    "predictions = predictions.cpu().numpy()\n",
    "labels = labels.cpu().numpy()\n",
    "\n",
    "# Display results\n",
    "for i in range(min(5, len(images))):  # Show first 5 samples\n",
    "    print(f\"\\nSample {i+1}:\")\n",
    "    for j, cls in enumerate(class_names):\n",
    "        print(f\"  [{cls}]\")\n",
    "        print(f\"    Ground truth: {labels[i, j]}\")\n",
    "        print(f\"    Prompts: 'No {cls}' vs '{cls}'\")\n",
    "        print(f\"    Predicted prob of presence: {predictions[i, j]:.4f}\")"
   ],
   "id": "841bd015845dcfe8",
   "outputs": [
    {
     "name": "stdout",
     "output_type": "stream",
     "text": [
      "\n",
      "Sample 1:\n",
      "  [Atelectasis]\n",
      "    Ground truth: 0.0\n",
      "    Prompts: 'No Atelectasis' vs 'Atelectasis'\n",
      "    Predicted prob of presence: 0.2347\n",
      "  [Cardiomegaly]\n",
      "    Ground truth: 0.0\n",
      "    Prompts: 'No Cardiomegaly' vs 'Cardiomegaly'\n",
      "    Predicted prob of presence: 0.1078\n",
      "  [Consolidation]\n",
      "    Ground truth: 0.0\n",
      "    Prompts: 'No Consolidation' vs 'Consolidation'\n",
      "    Predicted prob of presence: 0.2522\n",
      "  [Edema]\n",
      "    Ground truth: 0.0\n",
      "    Prompts: 'No Edema' vs 'Edema'\n",
      "    Predicted prob of presence: 0.1184\n",
      "  [Enlarged Cardiomediastinum]\n",
      "    Ground truth: 0.0\n",
      "    Prompts: 'No Enlarged Cardiomediastinum' vs 'Enlarged Cardiomediastinum'\n",
      "    Predicted prob of presence: 0.8129\n",
      "  [Fracture]\n",
      "    Ground truth: 0.0\n",
      "    Prompts: 'No Fracture' vs 'Fracture'\n",
      "    Predicted prob of presence: 0.0734\n",
      "  [Lung Lesion]\n",
      "    Ground truth: 0.0\n",
      "    Prompts: 'No Lung Lesion' vs 'Lung Lesion'\n",
      "    Predicted prob of presence: 0.5827\n",
      "  [Lung Opacity]\n",
      "    Ground truth: 0.0\n",
      "    Prompts: 'No Lung Opacity' vs 'Lung Opacity'\n",
      "    Predicted prob of presence: 0.4689\n",
      "  [No Finding]\n",
      "    Ground truth: 1.0\n",
      "    Prompts: 'No No Finding' vs 'No Finding'\n",
      "    Predicted prob of presence: 0.3402\n",
      "  [Pleural Effusion]\n",
      "    Ground truth: 0.0\n",
      "    Prompts: 'No Pleural Effusion' vs 'Pleural Effusion'\n",
      "    Predicted prob of presence: 0.1040\n",
      "  [Pleural Other]\n",
      "    Ground truth: 0.0\n",
      "    Prompts: 'No Pleural Other' vs 'Pleural Other'\n",
      "    Predicted prob of presence: 0.0649\n",
      "  [Pneumonia]\n",
      "    Ground truth: 0.0\n",
      "    Prompts: 'No Pneumonia' vs 'Pneumonia'\n",
      "    Predicted prob of presence: 0.3271\n",
      "  [Pneumothorax]\n",
      "    Ground truth: 0.0\n",
      "    Prompts: 'No Pneumothorax' vs 'Pneumothorax'\n",
      "    Predicted prob of presence: 0.3778\n",
      "  [Support Devices]\n",
      "    Ground truth: 1.0\n",
      "    Prompts: 'No Support Devices' vs 'Support Devices'\n",
      "    Predicted prob of presence: 0.9201\n",
      "\n",
      "Sample 2:\n",
      "  [Atelectasis]\n",
      "    Ground truth: 0.0\n",
      "    Prompts: 'No Atelectasis' vs 'Atelectasis'\n",
      "    Predicted prob of presence: 0.1303\n",
      "  [Cardiomegaly]\n",
      "    Ground truth: 0.0\n",
      "    Prompts: 'No Cardiomegaly' vs 'Cardiomegaly'\n",
      "    Predicted prob of presence: 0.0438\n",
      "  [Consolidation]\n",
      "    Ground truth: 0.0\n",
      "    Prompts: 'No Consolidation' vs 'Consolidation'\n",
      "    Predicted prob of presence: 0.1969\n",
      "  [Edema]\n",
      "    Ground truth: 0.0\n",
      "    Prompts: 'No Edema' vs 'Edema'\n",
      "    Predicted prob of presence: 0.1146\n",
      "  [Enlarged Cardiomediastinum]\n",
      "    Ground truth: 0.0\n",
      "    Prompts: 'No Enlarged Cardiomediastinum' vs 'Enlarged Cardiomediastinum'\n",
      "    Predicted prob of presence: 0.8191\n",
      "  [Fracture]\n",
      "    Ground truth: 0.0\n",
      "    Prompts: 'No Fracture' vs 'Fracture'\n",
      "    Predicted prob of presence: 0.1104\n",
      "  [Lung Lesion]\n",
      "    Ground truth: 0.0\n",
      "    Prompts: 'No Lung Lesion' vs 'Lung Lesion'\n",
      "    Predicted prob of presence: 0.6475\n",
      "  [Lung Opacity]\n",
      "    Ground truth: 0.0\n",
      "    Prompts: 'No Lung Opacity' vs 'Lung Opacity'\n",
      "    Predicted prob of presence: 0.2736\n",
      "  [No Finding]\n",
      "    Ground truth: 1.0\n",
      "    Prompts: 'No No Finding' vs 'No Finding'\n",
      "    Predicted prob of presence: 0.3511\n",
      "  [Pleural Effusion]\n",
      "    Ground truth: 0.0\n",
      "    Prompts: 'No Pleural Effusion' vs 'Pleural Effusion'\n",
      "    Predicted prob of presence: 0.1278\n",
      "  [Pleural Other]\n",
      "    Ground truth: 0.0\n",
      "    Prompts: 'No Pleural Other' vs 'Pleural Other'\n",
      "    Predicted prob of presence: 0.0750\n",
      "  [Pneumonia]\n",
      "    Ground truth: 0.0\n",
      "    Prompts: 'No Pneumonia' vs 'Pneumonia'\n",
      "    Predicted prob of presence: 0.3242\n",
      "  [Pneumothorax]\n",
      "    Ground truth: 0.0\n",
      "    Prompts: 'No Pneumothorax' vs 'Pneumothorax'\n",
      "    Predicted prob of presence: 0.3802\n",
      "  [Support Devices]\n",
      "    Ground truth: 1.0\n",
      "    Prompts: 'No Support Devices' vs 'Support Devices'\n",
      "    Predicted prob of presence: 0.9011\n",
      "\n",
      "Sample 3:\n",
      "  [Atelectasis]\n",
      "    Ground truth: 0.0\n",
      "    Prompts: 'No Atelectasis' vs 'Atelectasis'\n",
      "    Predicted prob of presence: 0.6964\n",
      "  [Cardiomegaly]\n",
      "    Ground truth: 0.0\n",
      "    Prompts: 'No Cardiomegaly' vs 'Cardiomegaly'\n",
      "    Predicted prob of presence: 0.6401\n",
      "  [Consolidation]\n",
      "    Ground truth: 0.0\n",
      "    Prompts: 'No Consolidation' vs 'Consolidation'\n",
      "    Predicted prob of presence: 0.0514\n",
      "  [Edema]\n",
      "    Ground truth: 0.0\n",
      "    Prompts: 'No Edema' vs 'Edema'\n",
      "    Predicted prob of presence: 0.1649\n",
      "  [Enlarged Cardiomediastinum]\n",
      "    Ground truth: 0.0\n",
      "    Prompts: 'No Enlarged Cardiomediastinum' vs 'Enlarged Cardiomediastinum'\n",
      "    Predicted prob of presence: 0.7247\n",
      "  [Fracture]\n",
      "    Ground truth: 0.0\n",
      "    Prompts: 'No Fracture' vs 'Fracture'\n",
      "    Predicted prob of presence: 0.0735\n",
      "  [Lung Lesion]\n",
      "    Ground truth: 0.0\n",
      "    Prompts: 'No Lung Lesion' vs 'Lung Lesion'\n",
      "    Predicted prob of presence: 0.4417\n",
      "  [Lung Opacity]\n",
      "    Ground truth: 0.0\n",
      "    Prompts: 'No Lung Opacity' vs 'Lung Opacity'\n",
      "    Predicted prob of presence: 0.2397\n",
      "  [No Finding]\n",
      "    Ground truth: 1.0\n",
      "    Prompts: 'No No Finding' vs 'No Finding'\n",
      "    Predicted prob of presence: 0.5140\n",
      "  [Pleural Effusion]\n",
      "    Ground truth: 0.0\n",
      "    Prompts: 'No Pleural Effusion' vs 'Pleural Effusion'\n",
      "    Predicted prob of presence: 0.2518\n",
      "  [Pleural Other]\n",
      "    Ground truth: 0.0\n",
      "    Prompts: 'No Pleural Other' vs 'Pleural Other'\n",
      "    Predicted prob of presence: 0.5566\n",
      "  [Pneumonia]\n",
      "    Ground truth: 0.0\n",
      "    Prompts: 'No Pneumonia' vs 'Pneumonia'\n",
      "    Predicted prob of presence: 0.0678\n",
      "  [Pneumothorax]\n",
      "    Ground truth: 0.0\n",
      "    Prompts: 'No Pneumothorax' vs 'Pneumothorax'\n",
      "    Predicted prob of presence: 0.3515\n",
      "  [Support Devices]\n",
      "    Ground truth: 0.0\n",
      "    Prompts: 'No Support Devices' vs 'Support Devices'\n",
      "    Predicted prob of presence: 0.0233\n",
      "\n",
      "Sample 4:\n",
      "  [Atelectasis]\n",
      "    Ground truth: 0.0\n",
      "    Prompts: 'No Atelectasis' vs 'Atelectasis'\n",
      "    Predicted prob of presence: 0.3367\n",
      "  [Cardiomegaly]\n",
      "    Ground truth: 0.0\n",
      "    Prompts: 'No Cardiomegaly' vs 'Cardiomegaly'\n",
      "    Predicted prob of presence: 0.4038\n",
      "  [Consolidation]\n",
      "    Ground truth: 0.0\n",
      "    Prompts: 'No Consolidation' vs 'Consolidation'\n",
      "    Predicted prob of presence: 0.0379\n",
      "  [Edema]\n",
      "    Ground truth: 0.0\n",
      "    Prompts: 'No Edema' vs 'Edema'\n",
      "    Predicted prob of presence: 0.0299\n",
      "  [Enlarged Cardiomediastinum]\n",
      "    Ground truth: 0.0\n",
      "    Prompts: 'No Enlarged Cardiomediastinum' vs 'Enlarged Cardiomediastinum'\n",
      "    Predicted prob of presence: 0.9240\n",
      "  [Fracture]\n",
      "    Ground truth: 0.0\n",
      "    Prompts: 'No Fracture' vs 'Fracture'\n",
      "    Predicted prob of presence: 0.0962\n",
      "  [Lung Lesion]\n",
      "    Ground truth: 0.0\n",
      "    Prompts: 'No Lung Lesion' vs 'Lung Lesion'\n",
      "    Predicted prob of presence: 0.5235\n",
      "  [Lung Opacity]\n",
      "    Ground truth: 0.0\n",
      "    Prompts: 'No Lung Opacity' vs 'Lung Opacity'\n",
      "    Predicted prob of presence: 0.1078\n",
      "  [No Finding]\n",
      "    Ground truth: 1.0\n",
      "    Prompts: 'No No Finding' vs 'No Finding'\n",
      "    Predicted prob of presence: 0.3968\n",
      "  [Pleural Effusion]\n",
      "    Ground truth: 0.0\n",
      "    Prompts: 'No Pleural Effusion' vs 'Pleural Effusion'\n",
      "    Predicted prob of presence: 0.1171\n",
      "  [Pleural Other]\n",
      "    Ground truth: 0.0\n",
      "    Prompts: 'No Pleural Other' vs 'Pleural Other'\n",
      "    Predicted prob of presence: 0.3530\n",
      "  [Pneumonia]\n",
      "    Ground truth: 0.0\n",
      "    Prompts: 'No Pneumonia' vs 'Pneumonia'\n",
      "    Predicted prob of presence: 0.0226\n",
      "  [Pneumothorax]\n",
      "    Ground truth: 0.0\n",
      "    Prompts: 'No Pneumothorax' vs 'Pneumothorax'\n",
      "    Predicted prob of presence: 0.1376\n",
      "  [Support Devices]\n",
      "    Ground truth: 0.0\n",
      "    Prompts: 'No Support Devices' vs 'Support Devices'\n",
      "    Predicted prob of presence: 0.0348\n",
      "\n",
      "Sample 5:\n",
      "  [Atelectasis]\n",
      "    Ground truth: 0.0\n",
      "    Prompts: 'No Atelectasis' vs 'Atelectasis'\n",
      "    Predicted prob of presence: 0.6675\n",
      "  [Cardiomegaly]\n",
      "    Ground truth: 0.0\n",
      "    Prompts: 'No Cardiomegaly' vs 'Cardiomegaly'\n",
      "    Predicted prob of presence: 0.8976\n",
      "  [Consolidation]\n",
      "    Ground truth: 0.0\n",
      "    Prompts: 'No Consolidation' vs 'Consolidation'\n",
      "    Predicted prob of presence: 0.0510\n",
      "  [Edema]\n",
      "    Ground truth: 0.0\n",
      "    Prompts: 'No Edema' vs 'Edema'\n",
      "    Predicted prob of presence: 0.1775\n",
      "  [Enlarged Cardiomediastinum]\n",
      "    Ground truth: 0.0\n",
      "    Prompts: 'No Enlarged Cardiomediastinum' vs 'Enlarged Cardiomediastinum'\n",
      "    Predicted prob of presence: 0.6450\n",
      "  [Fracture]\n",
      "    Ground truth: 0.0\n",
      "    Prompts: 'No Fracture' vs 'Fracture'\n",
      "    Predicted prob of presence: 0.0820\n",
      "  [Lung Lesion]\n",
      "    Ground truth: 0.0\n",
      "    Prompts: 'No Lung Lesion' vs 'Lung Lesion'\n",
      "    Predicted prob of presence: 0.5565\n",
      "  [Lung Opacity]\n",
      "    Ground truth: 0.0\n",
      "    Prompts: 'No Lung Opacity' vs 'Lung Opacity'\n",
      "    Predicted prob of presence: 0.2184\n",
      "  [No Finding]\n",
      "    Ground truth: 1.0\n",
      "    Prompts: 'No No Finding' vs 'No Finding'\n",
      "    Predicted prob of presence: 0.5526\n",
      "  [Pleural Effusion]\n",
      "    Ground truth: 0.0\n",
      "    Prompts: 'No Pleural Effusion' vs 'Pleural Effusion'\n",
      "    Predicted prob of presence: 0.4060\n",
      "  [Pleural Other]\n",
      "    Ground truth: 0.0\n",
      "    Prompts: 'No Pleural Other' vs 'Pleural Other'\n",
      "    Predicted prob of presence: 0.6176\n",
      "  [Pneumonia]\n",
      "    Ground truth: 0.0\n",
      "    Prompts: 'No Pneumonia' vs 'Pneumonia'\n",
      "    Predicted prob of presence: 0.0422\n",
      "  [Pneumothorax]\n",
      "    Ground truth: 0.0\n",
      "    Prompts: 'No Pneumothorax' vs 'Pneumothorax'\n",
      "    Predicted prob of presence: 0.1898\n",
      "  [Support Devices]\n",
      "    Ground truth: 0.0\n",
      "    Prompts: 'No Support Devices' vs 'Support Devices'\n",
      "    Predicted prob of presence: 0.0321\n"
     ]
    }
   ],
   "execution_count": 13
  }
 ],
 "metadata": {
  "kernelspec": {
   "display_name": "Python 3",
   "language": "python",
   "name": "python3"
  },
  "language_info": {
   "codemirror_mode": {
    "name": "ipython",
    "version": 2
   },
   "file_extension": ".py",
   "mimetype": "text/x-python",
   "name": "python",
   "nbconvert_exporter": "python",
   "pygments_lexer": "ipython2",
   "version": "2.7.6"
  }
 },
 "nbformat": 4,
 "nbformat_minor": 5
}
