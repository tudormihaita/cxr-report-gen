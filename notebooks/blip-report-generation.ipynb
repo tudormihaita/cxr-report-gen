{
 "cells": [
  {
   "cell_type": "code",
   "id": "initial_id",
   "metadata": {
    "collapsed": true,
    "ExecuteTime": {
     "end_time": "2025-04-27T15:15:20.729001Z",
     "start_time": "2025-04-27T15:15:15.565638Z"
    }
   },
   "source": [
    "import os\n",
    "import torch\n",
    "import yaml\n",
    "import blip\n",
    "import argparse\n",
    "\n",
    "from blip.train_generation import BLIPReportGenTrainer\n",
    "from data.loaders import CxrDataLoader, TransformBuilder"
   ],
   "outputs": [],
   "execution_count": 1
  },
  {
   "metadata": {
    "ExecuteTime": {
     "end_time": "2025-04-27T15:15:22.934585Z",
     "start_time": "2025-04-27T15:15:22.927307Z"
    }
   },
   "cell_type": "code",
   "source": [
    "config_path = '../configs/generation.yaml'\n",
    "config = yaml.load(open(config_path), Loader=yaml.Loader)"
   ],
   "id": "44c1f2d12e531744",
   "outputs": [],
   "execution_count": 2
  },
  {
   "metadata": {
    "ExecuteTime": {
     "end_time": "2025-04-27T15:15:23.892499Z",
     "start_time": "2025-04-27T15:15:23.888429Z"
    }
   },
   "cell_type": "code",
   "source": [
    "args = argparse.Namespace(\n",
    "    dataset_name='mimic-cxr',\n",
    "    batch_size=config['batch_size'],\n",
    "    num_workers=0,\n",
    "    drop_last=True,\n",
    "    use_minio=False\n",
    ")"
   ],
   "id": "8cf566f0831efa3a",
   "outputs": [],
   "execution_count": 3
  },
  {
   "metadata": {
    "ExecuteTime": {
     "end_time": "2025-04-27T15:15:25.889137Z",
     "start_time": "2025-04-27T15:15:25.105733Z"
    }
   },
   "cell_type": "code",
   "source": [
    "transform_builder = TransformBuilder(image_size=config['image_size'])\n",
    "\n",
    "dataloaders = {\n",
    "    'train': CxrDataLoader(args, split='train', transform=transform_builder.build('train')),\n",
    "    'val': CxrDataLoader(args, split='val', transform=transform_builder.build('val')),\n",
    "    'test': CxrDataLoader(args, split='test', transform=transform_builder.build('test')),\n",
    "}"
   ],
   "id": "81411c0d00f614e1",
   "outputs": [],
   "execution_count": 4
  },
  {
   "metadata": {
    "ExecuteTime": {
     "end_time": "2025-04-27T15:15:26.563373Z",
     "start_time": "2025-04-27T15:15:26.560002Z"
    }
   },
   "cell_type": "code",
   "source": "model_path = os.path.join('./output/generation', 'gen-checkpoint-6000.pt')",
   "id": "82ddb1868e72d26",
   "outputs": [],
   "execution_count": 5
  },
  {
   "metadata": {
    "ExecuteTime": {
     "end_time": "2025-04-27T15:15:36.167879Z",
     "start_time": "2025-04-27T15:15:27.478752Z"
    }
   },
   "cell_type": "code",
   "source": [
    "model = blip.blip_decoder(\n",
    "    pretrained=model_path,\n",
    "    use_custom=True,\n",
    "    image_size=config['image_size'],\n",
    "    vit=config['vit'],\n",
    "    vit_grad_ckpt=config['vit_grad_ckpt'],\n",
    "    vit_ckpt_layer=config['vit_ckpt_layer'],\n",
    "    prompt=config['prompt'],\n",
    ")"
   ],
   "id": "64dab4aec9a96279",
   "outputs": [
    {
     "data": {
      "text/plain": [
       "Downloading:   0%|          | 0.00/48.0 [00:00<?, ?B/s]"
      ],
      "application/vnd.jupyter.widget-view+json": {
       "version_major": 2,
       "version_minor": 0,
       "model_id": "cd959175fd5c4ec2b5a99a1f1e5eb8b6"
      }
     },
     "metadata": {},
     "output_type": "display_data"
    },
    {
     "data": {
      "text/plain": [
       "Downloading:   0%|          | 0.00/226k [00:00<?, ?B/s]"
      ],
      "application/vnd.jupyter.widget-view+json": {
       "version_major": 2,
       "version_minor": 0,
       "model_id": "8a384b09f538443db8dd61714b3a5564"
      }
     },
     "metadata": {},
     "output_type": "display_data"
    },
    {
     "data": {
      "text/plain": [
       "Downloading:   0%|          | 0.00/455k [00:00<?, ?B/s]"
      ],
      "application/vnd.jupyter.widget-view+json": {
       "version_major": 2,
       "version_minor": 0,
       "model_id": "89d33945aa2c4ee991ab37cc6b09113e"
      }
     },
     "metadata": {},
     "output_type": "display_data"
    },
    {
     "data": {
      "text/plain": [
       "Downloading:   0%|          | 0.00/570 [00:00<?, ?B/s]"
      ],
      "application/vnd.jupyter.widget-view+json": {
       "version_major": 2,
       "version_minor": 0,
       "model_id": "2d951ad7333e4dde97fbc8c85a55c31f"
      }
     },
     "metadata": {},
     "output_type": "display_data"
    },
    {
     "name": "stdout",
     "output_type": "stream",
     "text": [
      "Loaded checkpoint from ./output/generation/gen-checkpoint-6000.pt\n"
     ]
    }
   ],
   "execution_count": 6
  },
  {
   "metadata": {
    "ExecuteTime": {
     "end_time": "2025-04-27T15:19:07.287214Z",
     "start_time": "2025-04-27T15:15:40.002512Z"
    }
   },
   "cell_type": "code",
   "source": [
    "transform = TransformBuilder(image_size=config['image_size'])\n",
    "dataloader = CxrDataLoader(args, split='test', transform=transform_builder.build('test'))\n",
    "\n",
    "batch = next(iter(dataloader))\n",
    "\n",
    "reports, images = batch['report'], batch['image']\n",
    "images = images.cpu()\n",
    "reports = list(reports)\n",
    "\n",
    "model.eval()\n",
    "with torch.no_grad():\n",
    "    preds = model.generate(images)\n",
    "\n",
    "for pred in preds:\n",
    "    print(pred)\n",
    "    print('---')"
   ],
   "id": "e9a69f828a15591f",
   "outputs": [
    {
     "name": "stdout",
     "output_type": "stream",
     "text": [
      " no acute cardiopulmonary process. no evidence of pneumonia or vascular congestion. if there is high clinical concern for rib fracture, a dedicated rib series may be obtained. notification : the findings were discussed by dr. _ _ _ with dr. _ _ _ on the telephone on _ _ _ at 11 : 00 am, 5 minutes after discovery of the findings.\n",
      "---\n",
      " ng tube tip is in the stomach. heart size and mediastinum stable. lungs are clear. there is no pleural effusion or pneumothorax. there is no pneumothorax.\n",
      "---\n",
      " low lung volumes with bibasilar atelectasis. no evidence of acute cardiopulmonary process. no pneumonia, vascular congestion, or pleural effusion. if clinical concern for rib fracture, a dedicated rib series may be obtained.\n",
      "---\n",
      " no evidence of acute cardiopulmonary disease. no pneumonia, vascular congestion, or pleural effusion. no evidence of pulmonary edema. no pneumothorax. no evidence of pulmonary edema.\n",
      "---\n",
      " no evidence of acute cardiopulmonary disease. no pneumonia, vascular congestion, or pleural effusion. no pneumothorax is seen. if there is concern for a rib fracture, consider a dedicated rib series.\n",
      "---\n",
      " no evidence of acute cardiopulmonary disease. no pneumonia, vascular congestion, or pleural effusion. no evidence of acute cardiopulmonary disease. if there is high clinical concern for rib fracture, consider a dedicated rib series.\n",
      "---\n",
      " no evidence of acute cardiopulmonary disease. no pneumonia, vascular congestion, or pleural effusion. no evidence of acute cardiopulmonary disease. if there is high clinical concern for rib fracture, consider a dedicated rib series.\n",
      "---\n",
      " no evidence of acute cardiopulmonary disease. no pneumonia, vascular congestion, or pleural effusion. no evidence of pulmonary edema. no evidence of pneumothorax. no pulmonary edema.\n",
      "---\n",
      " no evidence of acute cardiopulmonary disease. no pneumonia, vascular congestion, or pleural effusion. no evidence of pulmonary edema. no evidence of acute focal pneumonia, vascular congestion, or pleural effusion.\n",
      "---\n",
      " no evidence of acute cardiopulmonary disease. no pneumonia, vascular congestion, or pleural effusion. no evidence of pulmonary edema. no pneumonia, no pulmonary edema, no pleural effusions.\n",
      "---\n",
      " no evidence of acute cardiopulmonary disease. no pneumonia, vascular congestion, or pleural effusion. no evidence of acute cardiopulmonary disease. if there is concern for rib fracture, consider a dedicated rib series.\n",
      "---\n",
      " no evidence of acute cardiopulmonary disease. no pneumonia, vascular congestion, or pleural effusion. no evidence of acute cardiopulmonary disease. if there is concern for rib fracture, consider a dedicated rib series.\n",
      "---\n",
      " no evidence of acute cardiopulmonary disease. no pneumonia, vascular congestion, or pleural effusion. no pneumothorax. right pic line ends in the low svc. right pic line ends in the low svc.\n",
      "---\n",
      " no evidence of acute cardiopulmonary disease. no pneumonia, vascular congestion, or pleural effusion. no evidence of pneumothorax. right pic line ends in the low svc. right pic line ends in the low svc.\n",
      "---\n",
      " low lung volumes with mild bibasilar atelectasis. no evidence of pneumonia or pulmonary edema. no pleural effusions. no pneumothorax. mild cardiomegaly. right pic line ends in the low svc.\n",
      "---\n",
      " 1. endotracheal tube and nasogastric tube in appropriate position. 2. bilateral layering pleural effusions with compressive basilar atelectasis. 3. left lower lobe collapse and / or consolidation.\n",
      "---\n",
      " 1. endotracheal tube and nasogastric tube in appropriate position. 2. mild pulmonary edema. 3. small bilateral pleural effusions. 4. mild cardiomegaly. notification : the findings were discussed by dr. _ _ _ with dr. _ _ _ on the telephone on _ _ _ at 4 : 00 pm, 5 minutes after discovery of the findings.\n",
      "---\n",
      " 1. endotracheal tube and nasogastric tube in appropriate position. 2. pulmonary vascular congestion and mild interstitial edema. 3. small left pleural effusion. 4. no pneumothorax.\n",
      "---\n",
      " ap chest compared _ _ _ through _ _ _. moderate right pleural effusion and moderate left pleural effusion _ _. moderate cardiomegaly stable. no pneumothorax. right jugular line ends in the low svc. right jugular line ends in the low svc. no pneumothorax.\n",
      "---\n",
      " 1. endotracheal tube and nasogastric tube in appropriate position. 2. left lower lobe atelectasis and small left pleural effusion. 3. left lower lobe atelectasis. notification : the findings were discussed by dr. _ _ _ with dr. _ _ _ on the telephone on _ _ _ at 3 : 00 pm, 5 minutes after discovery of the findings.\n",
      "---\n",
      " endotracheal tube and nasogastric tube in appropriate position. cardiomediastinal silhouette is within normal limits. there are no focal consolidations, pleural effusions, or pneumothoraces.\n",
      "---\n",
      ", the patient has been extubated. the nasogastric tube is in correct position. the course of the tube is unremarkable, the tip of the tube projects over the middle parts of the stomach. no evidence of complications, notably no pneumothorax. no pleural effusions. moderate cardiomegaly. no pulmonary edema.\n",
      "---\n",
      " ap chest compared _ _ _ through _ _ _. mild pulmonary edema, moderate cardiomegaly, small bilateral pleural effusions, and bibasilar atelectasis. no pneumothorax. tracheostomy tube in standard placement. right pic line ends in the mid svc. no pneumothorax.\n",
      "---\n",
      " 1. endotracheal tube and nasogastric tube in appropriate position. 2. pulmonary vascular congestion and bibasilar atelectasis. 3. mild pulmonary edema. 3. small bilateral pleural effusions. notification : the findings were discussed by dr. _ _ _ with dr. _ _ _ on the telephone on _ _ _ at 11 : 00 am, 5 minutes after discovery of the findings.\n",
      "---\n",
      " 1. endotracheal tube in appropriate position. 2. mild pulmonary vascular congestion and small bilateral pleural effusions. 3. bibasilar atelectasis. 4. mild cardiomegaly. notification : the findings were discussed by dr. _ _ _ with dr. _ _ _ on the telephone on _ _ _ at 4 : 00 pm, 5 minutes after discovery of the findings.\n",
      "---\n",
      " no evidence of acute cardiopulmonary disease. no pneumonia, vascular congestion, or pleural effusion. no evidence of pulmonary edema. no evidence of acute focal pneumonia, vascular congestion, or pleural effusion.\n",
      "---\n",
      " no evidence of acute cardiopulmonary disease. no pneumonia, vascular congestion, or pleural effusion. no evidence of pulmonary edema or pneumothorax. no evidence of acute focal pneumonia.\n",
      "---\n",
      " no evidence of acute cardiopulmonary disease. no pneumonia, vascular congestion, or pleural effusion. mild scoliosis of the thoracic spine. if clinical concern for rib fracture, consider a dedicated rib series.\n",
      "---\n",
      " no evidence of acute cardiopulmonary disease. no pneumonia, vascular congestion, or pleural effusion. no evidence of acute cardiopulmonary disease. if clinical concern for rib fracture, dedicated rib series may be obtained.\n",
      "---\n",
      " no evidence of acute cardiopulmonary disease. no pneumonia, vascular congestion, or pleural effusion. no evidence of acute cardiopulmonary disease. if clinical concern for rib fracture, dedicated rib series may be obtained.\n",
      "---\n",
      " no evidence of acute cardiopulmonary disease. no pneumonia, vascular congestion, or pleural effusion. no evidence of pulmonary edema. no pneumothorax. mild cardiomegaly.\n",
      "---\n",
      " no evidence of acute cardiopulmonary disease. no pneumonia, vascular congestion, or pleural effusion. no evidence of pulmonary edema. no pneumothorax. mild cardiomegaly.\n",
      "---\n"
     ]
    }
   ],
   "execution_count": 7
  },
  {
   "metadata": {},
   "cell_type": "code",
   "outputs": [],
   "execution_count": null,
   "source": [
    "trainer = BLIPReportGenTrainer(\n",
    "    model,\n",
    "    config,\n",
    "    train_loader=dataloaders['train'],\n",
    "    val_loader=dataloaders['val'],\n",
    "    test_loader=dataloaders['test'],\n",
    "    mixed_precision=False\n",
    ")"
   ],
   "id": "c8d2350238432451"
  },
  {
   "metadata": {},
   "cell_type": "code",
   "outputs": [],
   "execution_count": null,
   "source": "trainer.train()",
   "id": "3d27434414404948"
  }
 ],
 "metadata": {
  "kernelspec": {
   "display_name": "Python 3",
   "language": "python",
   "name": "python3"
  },
  "language_info": {
   "codemirror_mode": {
    "name": "ipython",
    "version": 2
   },
   "file_extension": ".py",
   "mimetype": "text/x-python",
   "name": "python",
   "nbconvert_exporter": "python",
   "pygments_lexer": "ipython2",
   "version": "2.7.6"
  }
 },
 "nbformat": 4,
 "nbformat_minor": 5
}
