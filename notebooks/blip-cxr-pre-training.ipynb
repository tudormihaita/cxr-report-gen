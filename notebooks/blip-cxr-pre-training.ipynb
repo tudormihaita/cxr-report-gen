{
 "cells": [
  {
   "metadata": {},
   "cell_type": "code",
   "outputs": [],
   "execution_count": null,
   "source": [
    "# only required for cluster training in order to detect python packages from the project root\n",
    "# import os\n",
    "# import sys\n",
    "#\n",
    "# project_root = os.path.abspath(os.path.join(os.getcwd(), \"..\"))  # add to sys path the project root to be able to use in-repo packages\n",
    "# if project_root not in sys.path:\n",
    "#     sys.path.insert(0, project_root)\n",
    "#\n",
    "# print(sys.executable)\n",
    "# for p in sys.path:\n",
    "#     print(p)"
   ],
   "id": "c979dc875ba771c6"
  },
  {
   "metadata": {
    "ExecuteTime": {
     "end_time": "2025-04-26T17:28:14.411578Z",
     "start_time": "2025-04-26T17:28:12.432660Z"
    }
   },
   "cell_type": "code",
   "source": [
    "import yaml\n",
    "import blip\n",
    "import argparse\n",
    "\n",
    "from blip.pretrain import BLIPTrainer\n",
    "from data.loaders import CxrDataLoader, TransformBuilder"
   ],
   "id": "a468787f9554e68a",
   "outputs": [],
   "execution_count": 1
  },
  {
   "metadata": {
    "ExecuteTime": {
     "end_time": "2025-04-26T17:28:14.417145Z",
     "start_time": "2025-04-26T17:28:14.414382Z"
    }
   },
   "cell_type": "code",
   "source": [
    "config_path = '../configs/pretrain.yaml'\n",
    "config = yaml.load(open(config_path), Loader=yaml.Loader)"
   ],
   "id": "528fbb3ff0060210",
   "outputs": [],
   "execution_count": 2
  },
  {
   "cell_type": "code",
   "id": "initial_id",
   "metadata": {
    "collapsed": true,
    "ExecuteTime": {
     "end_time": "2025-04-26T17:28:14.472109Z",
     "start_time": "2025-04-26T17:28:14.469720Z"
    }
   },
   "source": [
    "args = argparse.Namespace(\n",
    "    dataset_name='mimic-cxr',\n",
    "    batch_size=config['batch_size'],\n",
    "    num_workers=0,\n",
    "    drop_last=True,\n",
    "    use_minio=False\n",
    ")"
   ],
   "outputs": [],
   "execution_count": 3
  },
  {
   "metadata": {
    "ExecuteTime": {
     "end_time": "2025-04-26T17:28:31.771940Z",
     "start_time": "2025-04-26T17:28:14.478145Z"
    }
   },
   "cell_type": "code",
   "source": [
    "transform_builder = TransformBuilder(image_size=config['image_size'])\n",
    "\n",
    "dataloaders = {\n",
    "    'train': CxrDataLoader(args, split='train', transform=transform_builder.build('train')),\n",
    "    'val': CxrDataLoader(args, split='val', transform=transform_builder.build('val')),\n",
    "    'test': CxrDataLoader(args, split='test', transform=transform_builder.build('test')),\n",
    "}"
   ],
   "id": "10fd84c978367cce",
   "outputs": [],
   "execution_count": 4
  },
  {
   "metadata": {
    "ExecuteTime": {
     "end_time": "2025-04-26T17:28:37.481713Z",
     "start_time": "2025-04-26T17:28:31.778428Z"
    }
   },
   "cell_type": "code",
   "source": [
    "model = blip.blip_pretrain(\n",
    "    pretrained=config['pretrained'],\n",
    "    image_size=config['image_size'], \n",
    "    vit=config['vit'], \n",
    "    vit_grad_ckpt=config['vit_grad_ckpt'], \n",
    "    vit_ckpt_layer=config['vit_ckpt_layer'], \n",
    "    queue_size=config['queue_size'],\n",
    "    max_length=config['max_length'],\n",
    ")"
   ],
   "id": "9ba230960b462840",
   "outputs": [
    {
     "name": "stdout",
     "output_type": "stream",
     "text": [
      "/embeddings/word_embeddings is tied\n",
      "/embeddings/position_embeddings is tied\n",
      "/embeddings/LayerNorm is tied\n",
      "/encoder/layer/0/crossattention/self/query is tied\n",
      "/encoder/layer/0/crossattention/self/key is tied\n",
      "/encoder/layer/0/crossattention/self/value is tied\n",
      "/encoder/layer/0/crossattention/output/dense is tied\n",
      "/encoder/layer/0/crossattention/output/LayerNorm is tied\n",
      "/encoder/layer/0/intermediate/dense is tied\n",
      "/encoder/layer/0/output/dense is tied\n",
      "/encoder/layer/0/output/LayerNorm is tied\n",
      "/encoder/layer/1/crossattention/self/query is tied\n",
      "/encoder/layer/1/crossattention/self/key is tied\n",
      "/encoder/layer/1/crossattention/self/value is tied\n",
      "/encoder/layer/1/crossattention/output/dense is tied\n",
      "/encoder/layer/1/crossattention/output/LayerNorm is tied\n",
      "/encoder/layer/1/intermediate/dense is tied\n",
      "/encoder/layer/1/output/dense is tied\n",
      "/encoder/layer/1/output/LayerNorm is tied\n",
      "/encoder/layer/2/crossattention/self/query is tied\n",
      "/encoder/layer/2/crossattention/self/key is tied\n",
      "/encoder/layer/2/crossattention/self/value is tied\n",
      "/encoder/layer/2/crossattention/output/dense is tied\n",
      "/encoder/layer/2/crossattention/output/LayerNorm is tied\n",
      "/encoder/layer/2/intermediate/dense is tied\n",
      "/encoder/layer/2/output/dense is tied\n",
      "/encoder/layer/2/output/LayerNorm is tied\n",
      "/encoder/layer/3/crossattention/self/query is tied\n",
      "/encoder/layer/3/crossattention/self/key is tied\n",
      "/encoder/layer/3/crossattention/self/value is tied\n",
      "/encoder/layer/3/crossattention/output/dense is tied\n",
      "/encoder/layer/3/crossattention/output/LayerNorm is tied\n",
      "/encoder/layer/3/intermediate/dense is tied\n",
      "/encoder/layer/3/output/dense is tied\n",
      "/encoder/layer/3/output/LayerNorm is tied\n",
      "/encoder/layer/4/crossattention/self/query is tied\n",
      "/encoder/layer/4/crossattention/self/key is tied\n",
      "/encoder/layer/4/crossattention/self/value is tied\n",
      "/encoder/layer/4/crossattention/output/dense is tied\n",
      "/encoder/layer/4/crossattention/output/LayerNorm is tied\n",
      "/encoder/layer/4/intermediate/dense is tied\n",
      "/encoder/layer/4/output/dense is tied\n",
      "/encoder/layer/4/output/LayerNorm is tied\n",
      "/encoder/layer/5/crossattention/self/query is tied\n",
      "/encoder/layer/5/crossattention/self/key is tied\n",
      "/encoder/layer/5/crossattention/self/value is tied\n",
      "/encoder/layer/5/crossattention/output/dense is tied\n",
      "/encoder/layer/5/crossattention/output/LayerNorm is tied\n",
      "/encoder/layer/5/intermediate/dense is tied\n",
      "/encoder/layer/5/output/dense is tied\n",
      "/encoder/layer/5/output/LayerNorm is tied\n",
      "/encoder/layer/6/crossattention/self/query is tied\n",
      "/encoder/layer/6/crossattention/self/key is tied\n",
      "/encoder/layer/6/crossattention/self/value is tied\n",
      "/encoder/layer/6/crossattention/output/dense is tied\n",
      "/encoder/layer/6/crossattention/output/LayerNorm is tied\n",
      "/encoder/layer/6/intermediate/dense is tied\n",
      "/encoder/layer/6/output/dense is tied\n",
      "/encoder/layer/6/output/LayerNorm is tied\n",
      "/encoder/layer/7/crossattention/self/query is tied\n",
      "/encoder/layer/7/crossattention/self/key is tied\n",
      "/encoder/layer/7/crossattention/self/value is tied\n",
      "/encoder/layer/7/crossattention/output/dense is tied\n",
      "/encoder/layer/7/crossattention/output/LayerNorm is tied\n",
      "/encoder/layer/7/intermediate/dense is tied\n",
      "/encoder/layer/7/output/dense is tied\n",
      "/encoder/layer/7/output/LayerNorm is tied\n",
      "/encoder/layer/8/crossattention/self/query is tied\n",
      "/encoder/layer/8/crossattention/self/key is tied\n",
      "/encoder/layer/8/crossattention/self/value is tied\n",
      "/encoder/layer/8/crossattention/output/dense is tied\n",
      "/encoder/layer/8/crossattention/output/LayerNorm is tied\n",
      "/encoder/layer/8/intermediate/dense is tied\n",
      "/encoder/layer/8/output/dense is tied\n",
      "/encoder/layer/8/output/LayerNorm is tied\n",
      "/encoder/layer/9/crossattention/self/query is tied\n",
      "/encoder/layer/9/crossattention/self/key is tied\n",
      "/encoder/layer/9/crossattention/self/value is tied\n",
      "/encoder/layer/9/crossattention/output/dense is tied\n",
      "/encoder/layer/9/crossattention/output/LayerNorm is tied\n",
      "/encoder/layer/9/intermediate/dense is tied\n",
      "/encoder/layer/9/output/dense is tied\n",
      "/encoder/layer/9/output/LayerNorm is tied\n",
      "/encoder/layer/10/crossattention/self/query is tied\n",
      "/encoder/layer/10/crossattention/self/key is tied\n",
      "/encoder/layer/10/crossattention/self/value is tied\n",
      "/encoder/layer/10/crossattention/output/dense is tied\n",
      "/encoder/layer/10/crossattention/output/LayerNorm is tied\n",
      "/encoder/layer/10/intermediate/dense is tied\n",
      "/encoder/layer/10/output/dense is tied\n",
      "/encoder/layer/10/output/LayerNorm is tied\n",
      "/encoder/layer/11/crossattention/self/query is tied\n",
      "/encoder/layer/11/crossattention/self/key is tied\n",
      "/encoder/layer/11/crossattention/self/value is tied\n",
      "/encoder/layer/11/crossattention/output/dense is tied\n",
      "/encoder/layer/11/crossattention/output/LayerNorm is tied\n",
      "/encoder/layer/11/intermediate/dense is tied\n",
      "/encoder/layer/11/output/dense is tied\n",
      "/encoder/layer/11/output/LayerNorm is tied\n"
     ]
    }
   ],
   "execution_count": 5
  },
  {
   "metadata": {
    "ExecuteTime": {
     "end_time": "2025-04-26T17:28:37.562483Z",
     "start_time": "2025-04-26T17:28:37.548618Z"
    }
   },
   "cell_type": "code",
   "source": [
    "trainer = BLIPTrainer(\n",
    "    model,\n",
    "    config,\n",
    "    train_loader=dataloaders['train'],\n",
    "    val_loader=dataloaders['val'],\n",
    "    test_loader=dataloaders['test'],\n",
    "    mixed_precision=False\n",
    ")"
   ],
   "id": "eb62e2aeff59e9cd",
   "outputs": [
    {
     "name": "stderr",
     "output_type": "stream",
     "text": [
      "2025-04-26 20:28:37,560 - INFO - Total parameters: 475,892,799\n",
      "2025-04-26 20:28:37,561 - INFO - Trainable parameters: 252,441,919 (53.05%)\n"
     ]
    }
   ],
   "execution_count": 6
  },
  {
   "metadata": {},
   "cell_type": "code",
   "source": "trainer.train()",
   "id": "c83fc5e90eba8d3b",
   "outputs": [],
   "execution_count": 8
  }
 ],
 "metadata": {
  "kernelspec": {
   "display_name": "Python 3",
   "language": "python",
   "name": "python3"
  },
  "language_info": {
   "codemirror_mode": {
    "name": "ipython",
    "version": 2
   },
   "file_extension": ".py",
   "mimetype": "text/x-python",
   "name": "python",
   "nbconvert_exporter": "python",
   "pygments_lexer": "ipython2",
   "version": "2.7.6"
  }
 },
 "nbformat": 4,
 "nbformat_minor": 5
}
