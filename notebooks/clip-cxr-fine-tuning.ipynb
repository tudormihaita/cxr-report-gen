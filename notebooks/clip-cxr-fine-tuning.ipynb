{
 "cells": [
  {
   "cell_type": "code",
   "id": "initial_id",
   "metadata": {
    "collapsed": true,
    "ExecuteTime": {
     "end_time": "2025-03-10T09:52:53.363346Z",
     "start_time": "2025-03-10T09:52:51.922394Z"
    }
   },
   "source": [
    "import clip\n",
    "import argparse\n",
    "import numpy as np\n",
    "\n",
    "from clip.trainer import CLIPTrainer\n",
    "from loaders import CxrDataLoader"
   ],
   "outputs": [],
   "execution_count": 1
  },
  {
   "metadata": {
    "ExecuteTime": {
     "end_time": "2025-03-10T09:52:53.367846Z",
     "start_time": "2025-03-10T09:52:53.366287Z"
    }
   },
   "cell_type": "code",
   "source": [
    "args = argparse.Namespace(\n",
    "    dataset_name='iu-xray',\n",
    "    batch_size=16,\n",
    "    num_workers=1,\n",
    "    max_seq_length=248\n",
    ")"
   ],
   "id": "459daa3eb2128e81",
   "outputs": [],
   "execution_count": 2
  },
  {
   "metadata": {
    "ExecuteTime": {
     "end_time": "2025-03-10T09:52:54.628490Z",
     "start_time": "2025-03-10T09:52:53.418916Z"
    }
   },
   "cell_type": "code",
   "source": [
    "model, preprocess = clip.load(\"ViT-B/32\", load_from_clip=True)\n",
    "\n",
    "input_resolution = model.visual.input_resolution\n",
    "context_length = model.context_length\n",
    "extended_context_length = model.extended_context_length\n",
    "vocab_size = model.vocab_size\n",
    "\n",
    "print(\"Model parameters:\", f\"{np.sum([int(np.prod(p.shape)) for p in model.parameters()]):,}\")\n",
    "print(\"Input resolution:\", input_resolution)\n",
    "print(\"Original context length:\", context_length)\n",
    "print(\"Extended context length:\", extended_context_length)\n",
    "print(\"Vocab size:\", vocab_size)"
   ],
   "id": "47cf3c675b9dded9",
   "outputs": [
    {
     "name": "stdout",
     "output_type": "stream",
     "text": [
      "Model parameters: 151,899,919\n",
      "Input resolution: 224\n",
      "Original context length: 77\n",
      "Extended context length: 248\n",
      "Vocab size: 49408\n"
     ]
    }
   ],
   "execution_count": 3
  },
  {
   "metadata": {
    "ExecuteTime": {
     "end_time": "2025-03-10T09:52:54.717729Z",
     "start_time": "2025-03-10T09:52:54.688453Z"
    }
   },
   "cell_type": "code",
   "source": "data_loader = CxrDataLoader(args, split='train', transform=preprocess)",
   "id": "f7d6da43986cdb0b",
   "outputs": [],
   "execution_count": 4
  },
  {
   "metadata": {
    "ExecuteTime": {
     "end_time": "2025-03-10T09:52:54.730338Z",
     "start_time": "2025-03-10T09:52:54.723644Z"
    }
   },
   "cell_type": "code",
   "source": "trainer = CLIPTrainer(model, data_loader, data_loader, data_loader, log_interval=10)",
   "id": "e830ee91cf02930",
   "outputs": [
    {
     "name": "stderr",
     "output_type": "stream",
     "text": [
      "03/10/2025 11:52:54 - INFO - Total parameters: 151,899,919\n",
      "03/10/2025 11:52:54 - INFO - Trainable parameters: 151,772,943 (99.92%)\n"
     ]
    }
   ],
   "execution_count": 5
  },
  {
   "metadata": {
    "ExecuteTime": {
     "end_time": "2025-03-10T10:05:26.447497Z",
     "start_time": "2025-03-10T09:52:54.793103Z"
    }
   },
   "cell_type": "code",
   "source": "trainer.train()",
   "id": "4ef9d883079d6cc",
   "outputs": [
    {
     "name": "stderr",
     "output_type": "stream",
     "text": [
      "03/10/2025 11:52:54 - INFO - Starting training\n",
      "03/10/2025 11:52:54 - INFO - Starting epoch 1/415\n",
      "  4%|▎         | 9/241 [00:21<08:27,  2.19s/it]03/10/2025 11:53:18 - INFO - Step 10: Loss = 3.0192\n",
      "  8%|▊         | 19/241 [00:42<07:51,  2.12s/it]03/10/2025 11:53:38 - INFO - Step 20: Loss = 2.9861\n",
      " 12%|█▏        | 29/241 [01:02<07:08,  2.02s/it]03/10/2025 11:53:59 - INFO - Step 30: Loss = 3.0206\n",
      " 16%|█▌        | 39/241 [01:23<07:00,  2.08s/it]03/10/2025 11:54:20 - INFO - Step 40: Loss = 2.9549\n",
      " 20%|██        | 49/241 [01:43<06:33,  2.05s/it]03/10/2025 11:54:40 - INFO - Step 50: Loss = 2.8166\n",
      " 24%|██▍       | 59/241 [02:03<06:05,  2.01s/it]03/10/2025 11:55:00 - INFO - Step 60: Loss = 2.7244\n",
      " 29%|██▊       | 69/241 [02:24<06:00,  2.10s/it]03/10/2025 11:55:21 - INFO - Step 70: Loss = 2.8454\n",
      " 33%|███▎      | 79/241 [02:45<05:26,  2.02s/it]03/10/2025 11:55:42 - INFO - Step 80: Loss = 2.8789\n",
      " 37%|███▋      | 89/241 [03:06<05:16,  2.08s/it]03/10/2025 11:56:04 - INFO - Step 90: Loss = 2.7112\n",
      " 41%|████      | 99/241 [03:29<05:05,  2.15s/it]03/10/2025 11:56:26 - INFO - Step 100: Loss = 2.8751\n",
      " 45%|████▌     | 109/241 [03:50<04:38,  2.11s/it]03/10/2025 11:56:47 - INFO - Step 110: Loss = 2.7705\n",
      " 49%|████▉     | 119/241 [04:12<04:34,  2.25s/it]03/10/2025 11:57:09 - INFO - Step 120: Loss = 2.6806\n",
      " 54%|█████▎    | 129/241 [04:34<03:55,  2.11s/it]03/10/2025 11:57:31 - INFO - Step 130: Loss = 2.9640\n",
      " 58%|█████▊    | 139/241 [04:55<03:39,  2.15s/it]03/10/2025 11:57:52 - INFO - Step 140: Loss = 2.7729\n",
      " 62%|██████▏   | 149/241 [05:16<03:16,  2.13s/it]03/10/2025 11:58:13 - INFO - Step 150: Loss = 2.7882\n",
      " 66%|██████▌   | 159/241 [05:37<02:44,  2.01s/it]03/10/2025 11:58:33 - INFO - Step 160: Loss = 2.5538\n",
      " 70%|███████   | 169/241 [05:58<02:30,  2.09s/it]03/10/2025 11:58:55 - INFO - Step 170: Loss = 2.8313\n",
      " 74%|███████▍  | 179/241 [06:19<02:14,  2.17s/it]03/10/2025 11:59:16 - INFO - Step 180: Loss = 2.5646\n",
      " 78%|███████▊  | 189/241 [06:40<01:50,  2.12s/it]03/10/2025 11:59:37 - INFO - Step 190: Loss = 2.7388\n",
      " 83%|████████▎ | 199/241 [07:01<01:31,  2.17s/it]03/10/2025 11:59:58 - INFO - Step 200: Loss = 2.6555\n",
      " 87%|████████▋ | 209/241 [07:22<01:03,  1.98s/it]03/10/2025 12:00:19 - INFO - Step 210: Loss = 2.9940\n",
      " 91%|█████████ | 219/241 [07:43<00:48,  2.19s/it]03/10/2025 12:00:40 - INFO - Step 220: Loss = 2.6131\n",
      " 95%|█████████▌| 229/241 [08:04<00:25,  2.14s/it]03/10/2025 12:01:01 - INFO - Step 230: Loss = 2.7427\n",
      " 99%|█████████▉| 239/241 [08:25<00:04,  2.13s/it]03/10/2025 12:01:22 - INFO - Step 240: Loss = 2.7741\n",
      "100%|██████████| 241/241 [08:34<00:00,  2.13s/it]\n",
      "03/10/2025 12:01:29 - INFO - Epoch 1 completed in 514.45s. Average loss: 2.8063\n",
      "03/10/2025 12:01:29 - INFO - Running evaluation on val set\n",
      "Val Evaluation: 100%|██████████| 241/241 [03:01<00:00,  1.33it/s]\n",
      "/Users/tudormihaita/PycharmProjects/clip-cxr-report-gen/.venv/lib/python3.9/site-packages/sklearn/metrics/_classification.py:1565: UndefinedMetricWarning: Precision is ill-defined and being set to 0.0 due to no predicted samples. Use `zero_division` parameter to control this behavior.\n",
      "  _warn_prf(average, modifier, f\"{metric.capitalize()} is\", len(result))\n",
      "/Users/tudormihaita/PycharmProjects/clip-cxr-report-gen/.venv/lib/python3.9/site-packages/sklearn/metrics/_classification.py:1565: UndefinedMetricWarning: Precision is ill-defined and being set to 0.0 due to no predicted samples. Use `zero_division` parameter to control this behavior.\n",
      "  _warn_prf(average, modifier, f\"{metric.capitalize()} is\", len(result))\n",
      "/Users/tudormihaita/PycharmProjects/clip-cxr-report-gen/.venv/lib/python3.9/site-packages/sklearn/metrics/_classification.py:1565: UndefinedMetricWarning: Precision is ill-defined and being set to 0.0 due to no predicted samples. Use `zero_division` parameter to control this behavior.\n",
      "  _warn_prf(average, modifier, f\"{metric.capitalize()} is\", len(result))\n",
      "/Users/tudormihaita/PycharmProjects/clip-cxr-report-gen/.venv/lib/python3.9/site-packages/sklearn/metrics/_classification.py:1565: UndefinedMetricWarning: Precision is ill-defined and being set to 0.0 due to no predicted samples. Use `zero_division` parameter to control this behavior.\n",
      "  _warn_prf(average, modifier, f\"{metric.capitalize()} is\", len(result))\n",
      "/Users/tudormihaita/PycharmProjects/clip-cxr-report-gen/.venv/lib/python3.9/site-packages/sklearn/metrics/_classification.py:1565: UndefinedMetricWarning: Precision is ill-defined and being set to 0.0 due to no predicted samples. Use `zero_division` parameter to control this behavior.\n",
      "  _warn_prf(average, modifier, f\"{metric.capitalize()} is\", len(result))\n",
      "/Users/tudormihaita/PycharmProjects/clip-cxr-report-gen/.venv/lib/python3.9/site-packages/sklearn/metrics/_classification.py:1565: UndefinedMetricWarning: Precision is ill-defined and being set to 0.0 due to no predicted samples. Use `zero_division` parameter to control this behavior.\n",
      "  _warn_prf(average, modifier, f\"{metric.capitalize()} is\", len(result))\n",
      "/Users/tudormihaita/PycharmProjects/clip-cxr-report-gen/.venv/lib/python3.9/site-packages/sklearn/metrics/_classification.py:1565: UndefinedMetricWarning: Precision is ill-defined and being set to 0.0 due to no predicted samples. Use `zero_division` parameter to control this behavior.\n",
      "  _warn_prf(average, modifier, f\"{metric.capitalize()} is\", len(result))\n",
      "/Users/tudormihaita/PycharmProjects/clip-cxr-report-gen/.venv/lib/python3.9/site-packages/sklearn/metrics/_classification.py:1565: UndefinedMetricWarning: Precision is ill-defined and being set to 0.0 due to no predicted samples. Use `zero_division` parameter to control this behavior.\n",
      "  _warn_prf(average, modifier, f\"{metric.capitalize()} is\", len(result))\n",
      "/Users/tudormihaita/PycharmProjects/clip-cxr-report-gen/.venv/lib/python3.9/site-packages/sklearn/metrics/_classification.py:1565: UndefinedMetricWarning: Precision is ill-defined and being set to 0.0 due to no predicted samples. Use `zero_division` parameter to control this behavior.\n",
      "  _warn_prf(average, modifier, f\"{metric.capitalize()} is\", len(result))\n",
      "/Users/tudormihaita/PycharmProjects/clip-cxr-report-gen/.venv/lib/python3.9/site-packages/sklearn/metrics/_classification.py:1565: UndefinedMetricWarning: Precision is ill-defined and being set to 0.0 due to no predicted samples. Use `zero_division` parameter to control this behavior.\n",
      "  _warn_prf(average, modifier, f\"{metric.capitalize()} is\", len(result))\n",
      "/Users/tudormihaita/PycharmProjects/clip-cxr-report-gen/.venv/lib/python3.9/site-packages/sklearn/metrics/_classification.py:1565: UndefinedMetricWarning: Precision is ill-defined and being set to 0.0 due to no predicted samples. Use `zero_division` parameter to control this behavior.\n",
      "  _warn_prf(average, modifier, f\"{metric.capitalize()} is\", len(result))\n",
      "/Users/tudormihaita/PycharmProjects/clip-cxr-report-gen/.venv/lib/python3.9/site-packages/sklearn/metrics/_classification.py:1565: UndefinedMetricWarning: Precision is ill-defined and being set to 0.0 due to no predicted samples. Use `zero_division` parameter to control this behavior.\n",
      "  _warn_prf(average, modifier, f\"{metric.capitalize()} is\", len(result))\n",
      "/Users/tudormihaita/PycharmProjects/clip-cxr-report-gen/.venv/lib/python3.9/site-packages/sklearn/metrics/_classification.py:1565: UndefinedMetricWarning: Precision is ill-defined and being set to 0.0 due to no predicted samples. Use `zero_division` parameter to control this behavior.\n",
      "  _warn_prf(average, modifier, f\"{metric.capitalize()} is\", len(result))\n",
      "/Users/tudormihaita/PycharmProjects/clip-cxr-report-gen/.venv/lib/python3.9/site-packages/sklearn/metrics/_classification.py:1565: UndefinedMetricWarning: Precision is ill-defined and being set to 0.0 due to no predicted samples. Use `zero_division` parameter to control this behavior.\n",
      "  _warn_prf(average, modifier, f\"{metric.capitalize()} is\", len(result))\n",
      "03/10/2025 12:04:32 - INFO - Val metrics: {\n",
      "  \"val_loss\": 2.4123023911630463,\n",
      "  \"val_concept_auc_avg\": 0.6804340469194408,\n",
      "  \"val_concept_precision_avg\": 0.0,\n",
      "  \"val_concept_recall_avg\": 0.0,\n",
      "  \"val_concept_f1_avg\": 0.0,\n",
      "  \"val_i2t_recall@1\": 0.0013553808620222283,\n",
      "  \"val_t2i_recall@1\": 0.0010843046896177825,\n",
      "  \"val_i2t_recall@5\": 0.007047980482515587,\n",
      "  \"val_t2i_recall@5\": 0.008403361344537815,\n",
      "  \"val_i2t_recall@10\": 0.013824884792626729,\n",
      "  \"val_t2i_recall@10\": 0.015180265654648957,\n",
      "  \"val_i2t_median_rank\": 734.0,\n",
      "  \"val_t2i_median_rank\": 692.0\n",
      "}\n",
      "03/10/2025 12:04:33 - INFO - Saved best model to ./output/best_model.pt\n",
      "03/10/2025 12:04:33 - INFO - Starting epoch 2/415\n",
      "  3%|▎         | 8/241 [00:19<08:12,  2.11s/it]03/10/2025 12:04:55 - INFO - Step 250: Loss = 2.2599\n",
      "  7%|▋         | 18/241 [00:40<07:53,  2.12s/it]03/10/2025 12:05:16 - INFO - Step 260: Loss = 2.3855\n",
      "  9%|▊         | 21/241 [00:52<09:07,  2.49s/it]\n",
      "\n",
      "KeyboardInterrupt\n",
      "\n"
     ]
    }
   ],
   "execution_count": 6
  }
 ],
 "metadata": {
  "kernelspec": {
   "display_name": "Python 3",
   "language": "python",
   "name": "python3"
  },
  "language_info": {
   "codemirror_mode": {
    "name": "ipython",
    "version": 2
   },
   "file_extension": ".py",
   "mimetype": "text/x-python",
   "name": "python",
   "nbconvert_exporter": "python",
   "pygments_lexer": "ipython2",
   "version": "2.7.6"
  }
 },
 "nbformat": 4,
 "nbformat_minor": 5
}
