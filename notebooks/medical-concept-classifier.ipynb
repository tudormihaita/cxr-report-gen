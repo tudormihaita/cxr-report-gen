{
 "cells": [
  {
   "cell_type": "code",
   "id": "initial_id",
   "metadata": {
    "collapsed": true,
    "ExecuteTime": {
     "end_time": "2025-03-18T23:04:30.616291Z",
     "start_time": "2025-03-18T23:04:29.136279Z"
    }
   },
   "source": [
    "import clip\n",
    "import argparse\n",
    "import numpy as np\n",
    "\n",
    "from loaders import CxrDataLoader\n",
    "from classifier.model import ChexpertClassifier\n",
    "from classifier.trainer import ChexpertClassifierTrainer"
   ],
   "outputs": [],
   "execution_count": 1
  },
  {
   "metadata": {
    "ExecuteTime": {
     "end_time": "2025-03-18T23:04:30.620796Z",
     "start_time": "2025-03-18T23:04:30.618987Z"
    }
   },
   "cell_type": "code",
   "source": [
    "LABELS = ['Atelectasis', 'Cardiomegaly', 'Consolidation', 'Edema', 'Enlarged Cardiomediastinum', 'Fracture',\n",
    "          'Lung Lesion', 'Lung Opacity', 'No Finding', 'Pleural Effusion', 'Pleural Other', 'Pneumonia', 'Pneumothorax',\n",
    "          'Support Devices']\n",
    "\n",
    "args = argparse.Namespace(\n",
    "    dataset_name='iu-xray',\n",
    "    batch_size=16,\n",
    "    num_workers=0,\n",
    "    max_seq_length=248\n",
    ")"
   ],
   "id": "e3aaf4f97807f79c",
   "outputs": [],
   "execution_count": 2
  },
  {
   "metadata": {
    "ExecuteTime": {
     "end_time": "2025-03-18T23:04:31.893056Z",
     "start_time": "2025-03-18T23:04:30.671316Z"
    }
   },
   "cell_type": "code",
   "source": [
    "clip_model, preprocess = clip.load(\"ViT-B/32\", load_from_clip=True)\n",
    "clip_model.eval()\n",
    "\n",
    "vision_model = clip_model.visual\n",
    "input_dim = clip_model.vision_width\n",
    "hidden_dim = clip_model.transformer_width\n",
    "\n",
    "model = ChexpertClassifier(vision_model, input_dim, hidden_dim, num_classes=len(LABELS))\n",
    "\n",
    "print(\"Model parameters:\", f\"{np.sum([int(np.prod(p.shape)) for p in model.parameters()]):,}\")"
   ],
   "id": "7542fa47b73efef9",
   "outputs": [
    {
     "name": "stdout",
     "output_type": "stream",
     "text": [
      "Model parameters: 88,250,126\n"
     ]
    }
   ],
   "execution_count": 3
  },
  {
   "metadata": {
    "ExecuteTime": {
     "end_time": "2025-03-18T23:04:31.930271Z",
     "start_time": "2025-03-18T23:04:31.904518Z"
    }
   },
   "cell_type": "code",
   "source": [
    "dataloaders = {\n",
    "    'train': CxrDataLoader(args, split='train', transform=preprocess),\n",
    "    'val': CxrDataLoader(args, split='val', transform=preprocess),\n",
    "    'test': CxrDataLoader(args, split='test', transform=preprocess)\n",
    "}"
   ],
   "id": "1f766edabe7a8423",
   "outputs": [],
   "execution_count": 4
  },
  {
   "metadata": {
    "ExecuteTime": {
     "end_time": "2025-03-18T23:04:31.942002Z",
     "start_time": "2025-03-18T23:04:31.936559Z"
    }
   },
   "cell_type": "code",
   "source": "trainer = ChexpertClassifierTrainer(model, train_loader=dataloaders['train'], val_loader=dataloaders['val'], log_interval=10)",
   "id": "3cc0f9a45d06e2e5",
   "outputs": [
    {
     "name": "stderr",
     "output_type": "stream",
     "text": [
      "03/19/2025 01:04:31 - INFO - Total parameters: 88,250,126\n",
      "03/19/2025 01:04:31 - INFO - Trainable parameters: 400,910 (0.45%)\n"
     ]
    }
   ],
   "execution_count": 5
  },
  {
   "metadata": {
    "ExecuteTime": {
     "end_time": "2025-03-18T23:07:22.541943Z",
     "start_time": "2025-03-18T23:04:31.948840Z"
    }
   },
   "cell_type": "code",
   "source": [
    "# TODO: check if evaluation metrics are computed correctly: log predicted labels\n",
    "# TODO: handle uncertain labels\n",
    "trainer.train(epochs=1)"
   ],
   "id": "b6d2997d54f23c2c",
   "outputs": [
    {
     "name": "stderr",
     "output_type": "stream",
     "text": [
      "03/19/2025 01:04:31 - INFO - Start training\n",
      "03/19/2025 01:04:31 - INFO - Starting epoch 1/1\n",
      "  5%|▌         | 9/169 [00:07<02:10,  1.23it/s]03/19/2025 01:04:40 - INFO - Step 10: Loss = 0.6932\n",
      " 11%|█         | 19/169 [00:16<02:11,  1.14it/s]03/19/2025 01:04:48 - INFO - Step 20: Loss = 0.6931\n",
      " 17%|█▋        | 29/169 [00:24<01:54,  1.22it/s]03/19/2025 01:04:57 - INFO - Step 30: Loss = 0.6931\n",
      " 23%|██▎       | 39/169 [00:32<01:50,  1.18it/s]03/19/2025 01:05:05 - INFO - Step 40: Loss = 0.6931\n",
      " 29%|██▉       | 49/169 [00:41<01:40,  1.20it/s]03/19/2025 01:05:14 - INFO - Step 50: Loss = 0.6931\n",
      " 35%|███▍      | 59/169 [00:49<01:30,  1.22it/s]03/19/2025 01:05:22 - INFO - Step 60: Loss = 0.6931\n",
      " 41%|████      | 69/169 [00:57<01:24,  1.18it/s]03/19/2025 01:05:30 - INFO - Step 70: Loss = 0.6931\n",
      " 47%|████▋     | 79/169 [01:06<01:12,  1.23it/s]03/19/2025 01:05:38 - INFO - Step 80: Loss = 0.6931\n",
      " 53%|█████▎    | 89/169 [01:14<01:06,  1.20it/s]03/19/2025 01:05:47 - INFO - Step 90: Loss = 0.6931\n",
      " 59%|█████▊    | 99/169 [01:22<00:57,  1.21it/s]03/19/2025 01:05:55 - INFO - Step 100: Loss = 0.6931\n",
      " 64%|██████▍   | 109/169 [01:31<00:49,  1.22it/s]03/19/2025 01:06:03 - INFO - Step 110: Loss = 0.6931\n",
      " 70%|███████   | 119/169 [01:39<00:41,  1.20it/s]03/19/2025 01:06:12 - INFO - Step 120: Loss = 0.6931\n",
      " 76%|███████▋  | 129/169 [01:47<00:32,  1.22it/s]03/19/2025 01:06:20 - INFO - Step 130: Loss = 0.6931\n",
      " 82%|████████▏ | 139/169 [01:56<00:24,  1.22it/s]03/19/2025 01:06:28 - INFO - Step 140: Loss = 0.6931\n",
      " 88%|████████▊ | 149/169 [02:04<00:16,  1.24it/s]03/19/2025 01:06:37 - INFO - Step 150: Loss = 0.6931\n",
      " 94%|█████████▍| 159/169 [02:12<00:08,  1.22it/s]03/19/2025 01:06:45 - INFO - Step 160: Loss = 0.6931\n",
      "100%|██████████| 169/169 [02:20<00:00,  1.20it/s]\n",
      "03/19/2025 01:06:52 - INFO - Epoch 1 completed in 140.40s. Average loss: 0.6961\n",
      "03/19/2025 01:06:52 - INFO - Running evaluation on val set\n",
      "Val Evaluation: 100%|██████████| 37/37 [00:30<00:00,  1.23it/s]\n",
      "03/19/2025 01:07:22 - INFO - Val metrics: {\n",
      "  \"val_loss\": 0.6931474804878235,\n",
      "  \"val_auc\": 0.5307488956400571,\n",
      "  \"val_precision\": 0.0,\n",
      "  \"val_recall\": 0.0,\n",
      "  \"val_f1\": 0.0\n",
      "}\n",
      "03/19/2025 01:07:22 - INFO - Training finished\n"
     ]
    }
   ],
   "execution_count": 6
  }
 ],
 "metadata": {
  "kernelspec": {
   "display_name": "Python 3",
   "language": "python",
   "name": "python3"
  },
  "language_info": {
   "codemirror_mode": {
    "name": "ipython",
    "version": 2
   },
   "file_extension": ".py",
   "mimetype": "text/x-python",
   "name": "python",
   "nbconvert_exporter": "python",
   "pygments_lexer": "ipython2",
   "version": "2.7.6"
  }
 },
 "nbformat": 4,
 "nbformat_minor": 5
}
