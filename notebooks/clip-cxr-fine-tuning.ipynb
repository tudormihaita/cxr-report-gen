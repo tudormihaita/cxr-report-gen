{
 "cells": [
  {
   "cell_type": "code",
   "id": "initial_id",
   "metadata": {
    "collapsed": true,
    "ExecuteTime": {
     "end_time": "2025-04-06T15:41:41.916369Z",
     "start_time": "2025-04-06T15:41:40.012078Z"
    }
   },
   "source": [
    "import clip\n",
    "import argparse\n",
    "import numpy as np\n",
    "\n",
    "from clip.trainer import CLIPTrainer\n",
    "from loaders import CxrDataLoader\n",
    "from constants import VIT_TYPE"
   ],
   "outputs": [],
   "execution_count": 1
  },
  {
   "metadata": {
    "ExecuteTime": {
     "end_time": "2025-04-06T15:41:42.652792Z",
     "start_time": "2025-04-06T15:41:42.649866Z"
    }
   },
   "cell_type": "code",
   "source": [
    "args = argparse.Namespace(\n",
    "    dataset_name='iu-xray',\n",
    "    batch_size=16,\n",
    "    num_workers=0,\n",
    "    max_seq_length=248\n",
    ")"
   ],
   "id": "459daa3eb2128e81",
   "outputs": [],
   "execution_count": 2
  },
  {
   "metadata": {
    "ExecuteTime": {
     "end_time": "2025-04-06T15:41:55.395916Z",
     "start_time": "2025-04-06T15:41:53.889463Z"
    }
   },
   "cell_type": "code",
   "source": [
    "model, preprocess = clip.load(\"ViT-B/32\", load_from_clip=True, extended_context=False)\n",
    "\n",
    "input_resolution = model.visual.input_resolution\n",
    "context_length = model.context_length\n",
    "extended_context_length = model.extended_context_length\n",
    "vocab_size = model.vocab_size\n",
    "\n",
    "print(\"Model parameters:\", f\"{np.sum([int(np.prod(p.shape)) for p in model.parameters()]):,}\")\n",
    "print(\"Input resolution:\", input_resolution)\n",
    "print(\"Original context length:\", context_length)\n",
    "print(\"Extended context length:\", extended_context_length)\n",
    "print(\"Vocab size:\", vocab_size)"
   ],
   "id": "47cf3c675b9dded9",
   "outputs": [
    {
     "name": "stdout",
     "output_type": "stream",
     "text": [
      "Model parameters: 151,685,391\n",
      "Input resolution: 224\n",
      "Original context length: 77\n",
      "Extended context length: 248\n",
      "Vocab size: 49408\n"
     ]
    }
   ],
   "execution_count": 4
  },
  {
   "metadata": {
    "ExecuteTime": {
     "end_time": "2025-03-30T13:34:26.547971Z",
     "start_time": "2025-03-30T13:34:26.521998Z"
    }
   },
   "cell_type": "code",
   "source": [
    "dataloaders = {\n",
    "    'train': CxrDataLoader(args, split='train', transform=preprocess),\n",
    "    'val': CxrDataLoader(args, split='val', transform=preprocess),\n",
    "    'test': CxrDataLoader(args, split='test', transform=preprocess)\n",
    "}"
   ],
   "id": "f7d6da43986cdb0b",
   "outputs": [],
   "execution_count": 4
  },
  {
   "metadata": {
    "ExecuteTime": {
     "end_time": "2025-03-30T13:36:10.750605Z",
     "start_time": "2025-03-30T13:34:26.553098Z"
    }
   },
   "cell_type": "code",
   "source": [
    "trainer = CLIPTrainer(\n",
    "    model,\n",
    "    train_loader=dataloaders['train'],\n",
    "    val_loader=dataloaders['val'],\n",
    "    test_loader=dataloaders['test'],\n",
    "    log_interval=20\n",
    ")"
   ],
   "id": "e830ee91cf02930",
   "outputs": [
    {
     "name": "stderr",
     "output_type": "stream",
     "text": [
      "Computing pos weights: 100%|██████████| 169/169 [01:44<00:00,  1.62it/s]\n",
      "2025-03-30 16:36:10,749 - INFO - Total parameters: 151,899,919\n",
      "2025-03-30 16:36:10,749 - INFO - Trainable parameters: 151,772,943 (99.92%)\n"
     ]
    }
   ],
   "execution_count": 5
  },
  {
   "metadata": {
    "ExecuteTime": {
     "end_time": "2025-03-30T14:20:12.158764Z",
     "start_time": "2025-03-30T13:36:10.764400Z"
    }
   },
   "cell_type": "code",
   "source": "trainer.train(epochs=5)",
   "id": "4ef9d883079d6cc",
   "outputs": [
    {
     "name": "stderr",
     "output_type": "stream",
     "text": [
      "2025-03-30 16:36:10,765 - INFO - Starting training\n",
      "2025-03-30 16:36:10,766 - INFO - Starting epoch 1/5\n",
      " 11%|█         | 19/169 [00:53<06:58,  2.79s/it]2025-03-30 16:37:07,059 - INFO - Step 20: Loss = 3.4481\n",
      " 23%|██▎       | 39/169 [01:48<05:56,  2.74s/it]2025-03-30 16:38:02,304 - INFO - Step 40: Loss = 3.7022\n",
      " 35%|███▍      | 59/169 [02:44<05:02,  2.75s/it]2025-03-30 16:38:57,634 - INFO - Step 60: Loss = 3.1322\n",
      " 47%|████▋     | 79/169 [03:39<04:08,  2.77s/it]2025-03-30 16:39:53,138 - INFO - Step 80: Loss = 3.2594\n",
      " 59%|█████▊    | 99/169 [04:36<03:23,  2.90s/it]2025-03-30 16:40:50,149 - INFO - Step 100: Loss = 3.7771\n",
      " 70%|███████   | 119/169 [05:32<02:23,  2.87s/it]2025-03-30 16:41:46,649 - INFO - Step 120: Loss = 3.3033\n",
      " 82%|████████▏ | 139/169 [06:30<01:24,  2.82s/it]2025-03-30 16:42:43,559 - INFO - Step 140: Loss = 2.7930\n",
      " 94%|█████████▍| 159/169 [07:25<00:27,  2.78s/it]2025-03-30 16:43:39,133 - INFO - Step 160: Loss = 3.0705\n",
      "100%|██████████| 169/169 [07:52<00:00,  2.79s/it]\n",
      "2025-03-30 16:44:02,819 - INFO - Epoch 1 completed in 472.05s. Average loss: 3.3703\n",
      "2025-03-30 16:44:02,820 - INFO - Running evaluation on val set\n",
      "Val Evaluation: 100%|██████████| 37/37 [00:49<00:00,  1.33s/it]\n",
      "2025-03-30 16:44:52,018 - INFO - Val metrics: {\n",
      "  \"val_loss\": 2.8194871883134582,\n",
      "  \"val_best_threshold\": 0.5,\n",
      "  \"val_mean_f1\": 0.12194698841703863,\n",
      "  \"val_mean_precision\": 0.1581813205342367,\n",
      "  \"val_mean_recall\": 0.3411072144501444,\n",
      "  \"val_concept_auc_avg\": 0.6986746954026913\n",
      "}\n",
      "2025-03-30 16:44:53,640 - INFO - Saved best model to ./output/clip_cxr_model.pt\n",
      "2025-03-30 16:44:53,640 - INFO - Starting epoch 2/5\n",
      "  6%|▌         | 10/169 [00:28<07:24,  2.79s/it]2025-03-30 16:45:24,627 - INFO - Step 180: Loss = 3.2919\n",
      " 18%|█▊        | 30/169 [01:24<06:30,  2.81s/it]2025-03-30 16:46:20,838 - INFO - Step 200: Loss = 3.3144\n",
      " 30%|██▉       | 50/169 [02:20<05:31,  2.78s/it]2025-03-30 16:47:17,080 - INFO - Step 220: Loss = 3.4483\n",
      " 41%|████▏     | 70/169 [03:15<04:31,  2.74s/it]2025-03-30 16:48:11,915 - INFO - Step 240: Loss = 2.8028\n",
      " 53%|█████▎    | 90/169 [04:11<03:38,  2.77s/it]2025-03-30 16:49:07,717 - INFO - Step 260: Loss = 3.6911\n",
      " 65%|██████▌   | 110/169 [05:05<02:41,  2.74s/it]2025-03-30 16:50:02,309 - INFO - Step 280: Loss = 2.8694\n",
      " 77%|███████▋  | 130/169 [06:01<01:46,  2.74s/it]2025-03-30 16:50:57,387 - INFO - Step 300: Loss = 3.5799\n",
      " 89%|████████▉ | 150/169 [06:56<00:53,  2.79s/it]2025-03-30 16:51:53,068 - INFO - Step 320: Loss = 3.2007\n",
      "100%|██████████| 169/169 [07:47<00:00,  2.77s/it]\n",
      "2025-03-30 16:52:41,457 - INFO - Epoch 2 completed in 467.82s. Average loss: 3.0702\n",
      "2025-03-30 16:52:41,458 - INFO - Running evaluation on val set\n",
      "Val Evaluation: 100%|██████████| 37/37 [00:48<00:00,  1.31s/it]\n",
      "2025-03-30 16:53:29,970 - INFO - Val metrics: {\n",
      "  \"val_loss\": 2.8292164125958004,\n",
      "  \"val_best_threshold\": 0.5,\n",
      "  \"val_mean_f1\": 0.16806837101589175,\n",
      "  \"val_mean_precision\": 0.11149638503866019,\n",
      "  \"val_mean_recall\": 0.5878208212516773,\n",
      "  \"val_concept_auc_avg\": 0.726957107127826\n",
      "}\n",
      "2025-03-30 16:53:29,971 - INFO - Starting epoch 3/5\n",
      "  1%|          | 1/169 [00:02<07:43,  2.76s/it]2025-03-30 16:53:35,732 - INFO - Step 340: Loss = 2.7701\n",
      " 12%|█▏        | 21/169 [00:58<06:51,  2.78s/it]2025-03-30 16:54:31,398 - INFO - Step 360: Loss = 2.5649\n",
      " 24%|██▍       | 41/169 [01:53<05:48,  2.73s/it]2025-03-30 16:55:26,413 - INFO - Step 380: Loss = 2.5107\n",
      " 36%|███▌      | 61/169 [02:48<04:58,  2.77s/it]2025-03-30 16:56:21,663 - INFO - Step 400: Loss = 2.5112\n",
      " 48%|████▊     | 81/169 [03:43<04:00,  2.74s/it]2025-03-30 16:57:16,552 - INFO - Step 420: Loss = 2.8039\n",
      " 60%|█████▉    | 101/169 [04:39<03:06,  2.74s/it]2025-03-30 16:58:11,854 - INFO - Step 440: Loss = 2.5535\n",
      " 72%|███████▏  | 121/169 [05:34<02:11,  2.74s/it]2025-03-30 16:59:07,433 - INFO - Step 460: Loss = 2.1957\n",
      " 83%|████████▎ | 141/169 [06:29<01:16,  2.72s/it]2025-03-30 17:00:02,669 - INFO - Step 480: Loss = 3.0359\n",
      " 95%|█████████▌| 161/169 [07:24<00:22,  2.75s/it]2025-03-30 17:00:57,353 - INFO - Step 500: Loss = 2.8535\n",
      "100%|██████████| 169/169 [07:45<00:00,  2.75s/it]\n",
      "2025-03-30 17:01:15,062 - INFO - Epoch 3 completed in 465.09s. Average loss: 2.7171\n",
      "2025-03-30 17:01:15,062 - INFO - Running evaluation on val set\n",
      "Val Evaluation: 100%|██████████| 37/37 [00:48<00:00,  1.30s/it]\n",
      "2025-03-30 17:02:03,331 - INFO - Val metrics: {\n",
      "  \"val_loss\": 2.7605487929808126,\n",
      "  \"val_best_threshold\": 0.5,\n",
      "  \"val_mean_f1\": 0.16886621243747132,\n",
      "  \"val_mean_precision\": 0.11314954562750314,\n",
      "  \"val_mean_recall\": 0.6422089236114026,\n",
      "  \"val_concept_auc_avg\": 0.7209889217583637\n",
      "}\n",
      "2025-03-30 17:02:04,520 - INFO - Saved best model to ./output/clip_cxr_model.pt\n",
      "2025-03-30 17:02:04,520 - INFO - Starting epoch 4/5\n",
      "  7%|▋         | 12/169 [00:32<07:07,  2.73s/it]2025-03-30 17:02:40,056 - INFO - Step 520: Loss = 2.1479\n",
      " 19%|█▉        | 32/169 [01:27<06:20,  2.77s/it]2025-03-30 17:03:35,088 - INFO - Step 540: Loss = 2.3535\n",
      " 31%|███       | 52/169 [02:23<05:30,  2.83s/it]2025-03-30 17:04:30,758 - INFO - Step 560: Loss = 2.1796\n",
      " 43%|████▎     | 72/169 [03:18<04:26,  2.74s/it]2025-03-30 17:05:25,880 - INFO - Step 580: Loss = 2.1587\n",
      " 54%|█████▍    | 92/169 [04:14<03:32,  2.76s/it]2025-03-30 17:06:21,679 - INFO - Step 600: Loss = 2.2516\n",
      " 66%|██████▋   | 112/169 [05:09<02:36,  2.75s/it]2025-03-30 17:07:17,076 - INFO - Step 620: Loss = 2.7182\n",
      " 78%|███████▊  | 132/169 [06:04<01:41,  2.75s/it]2025-03-30 17:08:12,185 - INFO - Step 640: Loss = 2.6167\n",
      " 90%|████████▉ | 152/169 [07:00<00:47,  2.78s/it]2025-03-30 17:09:07,366 - INFO - Step 660: Loss = 2.0251\n",
      "100%|██████████| 169/169 [07:47<00:00,  2.76s/it]\n",
      "2025-03-30 17:09:51,731 - INFO - Epoch 4 completed in 467.21s. Average loss: 2.2588\n",
      "2025-03-30 17:09:51,732 - INFO - Running evaluation on val set\n",
      "Val Evaluation: 100%|██████████| 37/37 [00:48<00:00,  1.32s/it]\n",
      "2025-03-30 17:10:40,477 - INFO - Val metrics: {\n",
      "  \"val_loss\": 3.144998125127844,\n",
      "  \"val_best_threshold\": 0.5,\n",
      "  \"val_mean_f1\": 0.17770441295423106,\n",
      "  \"val_mean_precision\": 0.12326813477386368,\n",
      "  \"val_mean_recall\": 0.5549295827776017,\n",
      "  \"val_concept_auc_avg\": 0.7300260382496138\n",
      "}\n",
      "2025-03-30 17:10:40,478 - INFO - Starting epoch 5/5\n",
      "  2%|▏         | 3/169 [00:08<07:33,  2.73s/it]2025-03-30 17:10:51,424 - INFO - Step 680: Loss = 2.0074\n",
      " 14%|█▎        | 23/169 [01:05<07:08,  2.93s/it]2025-03-30 17:11:48,450 - INFO - Step 700: Loss = 1.9151\n",
      " 25%|██▌       | 43/169 [02:00<05:45,  2.74s/it]2025-03-30 17:12:43,925 - INFO - Step 720: Loss = 1.9307\n",
      " 37%|███▋      | 63/169 [02:58<05:06,  2.89s/it]2025-03-30 17:13:41,917 - INFO - Step 740: Loss = 2.0081\n",
      " 49%|████▉     | 83/169 [03:55<03:57,  2.76s/it]2025-03-30 17:14:39,013 - INFO - Step 760: Loss = 1.9678\n",
      " 61%|██████    | 103/169 [04:51<03:01,  2.75s/it]2025-03-30 17:15:34,234 - INFO - Step 780: Loss = 2.0445\n",
      " 73%|███████▎  | 123/169 [05:46<02:04,  2.71s/it]2025-03-30 17:16:29,870 - INFO - Step 800: Loss = 1.8890\n",
      " 85%|████████▍ | 143/169 [06:42<01:12,  2.78s/it]2025-03-30 17:17:25,339 - INFO - Step 820: Loss = 1.6580\n",
      " 96%|█████████▋| 163/169 [07:37<00:16,  2.76s/it]2025-03-30 17:18:20,448 - INFO - Step 840: Loss = 1.5802\n",
      "100%|██████████| 169/169 [07:52<00:00,  2.80s/it]\n",
      "2025-03-30 17:18:33,191 - INFO - Epoch 5 completed in 472.71s. Average loss: 1.8868\n",
      "2025-03-30 17:18:33,192 - INFO - Running evaluation on val set\n",
      "Val Evaluation: 100%|██████████| 37/37 [00:49<00:00,  1.33s/it]\n",
      "2025-03-30 17:19:22,562 - INFO - Val metrics: {\n",
      "  \"val_loss\": 3.2362488770001643,\n",
      "  \"val_best_threshold\": 0.5,\n",
      "  \"val_mean_f1\": 0.17271234368221303,\n",
      "  \"val_mean_precision\": 0.11827322806595278,\n",
      "  \"val_mean_recall\": 0.6054312187760449,\n",
      "  \"val_concept_auc_avg\": 0.7184001631380295\n",
      "}\n",
      "2025-03-30 17:19:22,562 - INFO - Running final evaluation on test set\n",
      "2025-03-30 17:19:22,563 - INFO - Running evaluation on test set\n",
      "Test Evaluation: 100%|██████████| 37/37 [00:49<00:00,  1.34s/it]\n",
      "2025-03-30 17:20:12,156 - INFO - Test metrics: {\n",
      "  \"test_loss\": 3.5088784565796725,\n",
      "  \"test_best_threshold\": 0.5,\n",
      "  \"test_mean_f1\": 0.17234658010674056,\n",
      "  \"test_mean_precision\": 0.11729985217851321,\n",
      "  \"test_mean_recall\": 0.6025526574266069,\n",
      "  \"test_concept_auc_avg\": 0.7123653462802338\n",
      "}\n",
      "2025-03-30 17:20:12,157 - INFO - Test metrics: {\n",
      "  \"test_loss\": 3.5088784565796725,\n",
      "  \"test_best_threshold\": 0.5,\n",
      "  \"test_mean_f1\": 0.17234658010674056,\n",
      "  \"test_mean_precision\": 0.11729985217851321,\n",
      "  \"test_mean_recall\": 0.6025526574266069,\n",
      "  \"test_concept_auc_avg\": 0.7123653462802338\n",
      "}\n",
      "2025-03-30 17:20:12,157 - INFO - Training completed\n"
     ]
    }
   ],
   "execution_count": 6
  }
 ],
 "metadata": {
  "kernelspec": {
   "display_name": "Python 3",
   "language": "python",
   "name": "python3"
  },
  "language_info": {
   "codemirror_mode": {
    "name": "ipython",
    "version": 2
   },
   "file_extension": ".py",
   "mimetype": "text/x-python",
   "name": "python",
   "nbconvert_exporter": "python",
   "pygments_lexer": "ipython2",
   "version": "2.7.6"
  }
 },
 "nbformat": 4,
 "nbformat_minor": 5
}
