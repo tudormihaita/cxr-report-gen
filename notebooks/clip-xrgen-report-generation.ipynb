{
 "cells": [
  {
   "metadata": {},
   "cell_type": "code",
   "outputs": [],
   "execution_count": null,
   "source": [
    "import yaml\n",
    "import argparse\n",
    "\n",
    "from data import load_tokenizer\n",
    "from clipxrgen import build_model\n",
    "from clipxrgen.loss import build_loss\n",
    "from data.loaders import CxrDataLoader\n",
    "from configs import load_config_from_file\n",
    "from clipxrgen.downstream import RadiologyReportDecoderTrainer"
   ],
   "id": "25d1543167f90f87"
  },
  {
   "metadata": {},
   "cell_type": "code",
   "outputs": [],
   "execution_count": null,
   "source": [
    "tokenizer_config = yaml.load(open(\"../configs/tokenizer/cxr_bert.yaml\"), Loader=yaml.FullLoader)\n",
    "prompt_constructor_config = load_config_from_file(\"../configs/prompts/teacher_forcing.yaml\")\n",
    "model_config = load_config_from_file(\"../configs/model/conditional_report_gen.yaml\")\n",
    "loss_config = load_config_from_file(\"../configs/loss/language_modeling.yaml\")\n",
    "\n",
    "tokenizer = load_tokenizer(**tokenizer_config)\n",
    "loss_fn = build_loss(loss_config)\n",
    "model = build_model(model_config, tokenizer)\n",
    "prompt_constructor = build_model(model_config, tokenizer)"
   ],
   "id": "d5f05aeab3ffa11a"
  },
  {
   "metadata": {
    "ExecuteTime": {
     "end_time": "2025-05-27T16:48:42.862330Z",
     "start_time": "2025-05-27T16:48:42.855753Z"
    }
   },
   "cell_type": "code",
   "source": [
    "transform_config = yaml.load(open(\"../configs/transform/clahe.yaml\"), Loader=yaml.FullLoader)\n",
    "train_config = yaml.load(open(\"../configs/train/report_gen.yaml\"), Loader=yaml.FullLoader)\n",
    "\n",
    "args = argparse.Namespace(\n",
    "    dataset_name='mimic-cxr-mvs',\n",
    "    batch_size=10,\n",
    "    max_length=train_config[\"max_length\"],\n",
    "    image_size=train_config[\"image_size\"],\n",
    "    num_workers=0,\n",
    "    drop_last=True,\n",
    "    use_minio=False\n",
    ")"
   ],
   "id": "3e0d5b0619a1a992",
   "outputs": [],
   "execution_count": 7
  },
  {
   "metadata": {
    "ExecuteTime": {
     "end_time": "2025-05-27T16:48:45.939515Z",
     "start_time": "2025-05-27T16:48:44.743042Z"
    }
   },
   "cell_type": "code",
   "source": [
    "dataloaders = {\n",
    "    \"train\": CxrDataLoader(\n",
    "        args,\n",
    "        split='train',\n",
    "        transform_config=transform_config,\n",
    "        tokenizer=tokenizer,\n",
    "    ),\n",
    "    \"val\": CxrDataLoader(\n",
    "        args,\n",
    "        split='val',\n",
    "        transform_config=transform_config,\n",
    "        tokenizer=tokenizer,\n",
    "    ),\n",
    "    \"test\": CxrDataLoader(\n",
    "        args,\n",
    "        split='test',\n",
    "        transform_config=transform_config,\n",
    "        tokenizer=tokenizer,\n",
    "    ),\n",
    "}"
   ],
   "id": "3d82593f444c4f39",
   "outputs": [
    {
     "name": "stderr",
     "output_type": "stream",
     "text": [
      "[nltk_data] Downloading package punkt_tab to\n",
      "[nltk_data]     /Users/tudormihaita/nltk_data...\n",
      "[nltk_data]   Package punkt_tab is already up-to-date!\n",
      "[nltk_data] Downloading package punkt_tab to\n",
      "[nltk_data]     /Users/tudormihaita/nltk_data...\n",
      "[nltk_data]   Package punkt_tab is already up-to-date!\n",
      "[nltk_data] Downloading package punkt_tab to\n",
      "[nltk_data]     /Users/tudormihaita/nltk_data...\n",
      "[nltk_data]   Package punkt_tab is already up-to-date!\n"
     ]
    }
   ],
   "execution_count": 8
  },
  {
   "metadata": {
    "ExecuteTime": {
     "end_time": "2025-05-27T16:50:57.175463Z",
     "start_time": "2025-05-27T16:50:57.172727Z"
    }
   },
   "cell_type": "code",
   "source": "print(len(dataloaders[\"val\"].dataset))",
   "id": "a8104f090ec8f75",
   "outputs": [
    {
     "name": "stdout",
     "output_type": "stream",
     "text": [
      "37664\n"
     ]
    }
   ],
   "execution_count": 14
  },
  {
   "metadata": {},
   "cell_type": "code",
   "outputs": [],
   "execution_count": null,
   "source": [
    "trainer = RadiologyReportDecoderTrainer(\n",
    "    model=model,\n",
    "    config=train_config,\n",
    "    loss_fn=loss_fn,\n",
    "    prompt_constructor=prompt_constructor,\n",
    "    train_loader=dataloaders[\"train\"],\n",
    "    val_loader=dataloaders[\"val\"],\n",
    "    mixed_precision=False\n",
    ")"
   ],
   "id": "6b7833eb227d9e31"
  },
  {
   "metadata": {},
   "cell_type": "code",
   "outputs": [],
   "execution_count": null,
   "source": "trainer.train()",
   "id": "8827adc2997e0420"
  },
  {
   "metadata": {},
   "cell_type": "code",
   "outputs": [],
   "execution_count": null,
   "source": "",
   "id": "ecfdfd876e57192c"
  }
 ],
 "metadata": {
  "kernelspec": {
   "display_name": "Python 3",
   "language": "python",
   "name": "python3"
  },
  "language_info": {
   "codemirror_mode": {
    "name": "ipython",
    "version": 2
   },
   "file_extension": ".py",
   "mimetype": "text/x-python",
   "name": "python",
   "nbconvert_exporter": "python",
   "pygments_lexer": "ipython2",
   "version": "2.7.6"
  }
 },
 "nbformat": 4,
 "nbformat_minor": 5
}
